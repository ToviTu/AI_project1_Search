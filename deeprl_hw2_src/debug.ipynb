{
 "cells": [
  {
   "cell_type": "code",
   "execution_count": 1,
   "metadata": {},
   "outputs": [
    {
     "name": "stdout",
     "output_type": "stream",
     "text": [
      "Automatic pdb calling has been turned ON\n"
     ]
    }
   ],
   "source": [
    "%pdb"
   ]
  },
  {
   "cell_type": "code",
   "execution_count": 1,
   "metadata": {},
   "outputs": [
    {
     "name": "stderr",
     "output_type": "stream",
     "text": [
      "A.L.E: Arcade Learning Environment (version 0.10.1+unknown)\n",
      "[Powered by Stella]\n",
      "  5%|▍         | 50276/1050000 [01:35<1:00:03, 277.47it/s]"
     ]
    },
    {
     "name": "stdout",
     "output_type": "stream",
     "text": [
      "Step: 235/950000 Episode 95: Total reward: 90.0 Explore P: 0.9997885\n"
     ]
    },
    {
     "name": "stderr",
     "output_type": "stream",
     "text": [
      "  5%|▍         | 50756/1050000 [01:37<1:00:38, 274.66it/s]"
     ]
    },
    {
     "name": "stdout",
     "output_type": "stream",
     "text": [
      "Step: 716/950000 Episode 96: Total reward: 110.0 Explore P: 0.9993556\n"
     ]
    },
    {
     "name": "stderr",
     "output_type": "stream",
     "text": [
      "  5%|▍         | 51060/1050000 [01:38<55:17, 301.15it/s]  "
     ]
    },
    {
     "name": "stdout",
     "output_type": "stream",
     "text": [
      "Step: 1021/950000 Episode 97: Total reward: 110.0 Explore P: 0.9990811\n"
     ]
    },
    {
     "name": "stderr",
     "output_type": "stream",
     "text": [
      "  5%|▍         | 51697/1050000 [01:40<58:40, 283.59it/s]"
     ]
    },
    {
     "name": "stdout",
     "output_type": "stream",
     "text": [
      "Step: 1668/950000 Episode 98: Total reward: 185.0 Explore P: 0.9984988\n"
     ]
    },
    {
     "name": "stderr",
     "output_type": "stream",
     "text": [
      "  5%|▍         | 52228/1050000 [01:42<1:02:09, 267.53it/s]"
     ]
    },
    {
     "name": "stdout",
     "output_type": "stream",
     "text": [
      "Step: 2180/950000 Episode 99: Total reward: 135.0 Explore P: 0.998038\n"
     ]
    },
    {
     "name": "stderr",
     "output_type": "stream",
     "text": [
      "  5%|▌         | 52864/1050000 [01:44<56:14, 295.49it/s]  "
     ]
    },
    {
     "name": "stdout",
     "output_type": "stream",
     "text": [
      "Step: 2827/950000 Episode 100: Total reward: 195.0 Explore P: 0.9974557\n"
     ]
    },
    {
     "name": "stderr",
     "output_type": "stream",
     "text": [
      "  5%|▌         | 53569/1050000 [01:46<56:33, 293.64it/s]"
     ]
    },
    {
     "name": "stdout",
     "output_type": "stream",
     "text": [
      "Step: 3533/950000 Episode 101: Total reward: 280.0 Explore P: 0.9968203\n"
     ]
    },
    {
     "name": "stderr",
     "output_type": "stream",
     "text": [
      "  5%|▌         | 54288/1050000 [01:49<58:17, 284.66it/s]"
     ]
    },
    {
     "name": "stdout",
     "output_type": "stream",
     "text": [
      "Step: 4234/950000 Episode 102: Total reward: 225.0 Explore P: 0.9961894\n"
     ]
    },
    {
     "name": "stderr",
     "output_type": "stream",
     "text": [
      "  5%|▌         | 54694/1050000 [01:50<58:01, 285.85it/s]  "
     ]
    },
    {
     "name": "stdout",
     "output_type": "stream",
     "text": [
      "Step: 4656/950000 Episode 103: Total reward: 180.0 Explore P: 0.9958096\n"
     ]
    },
    {
     "name": "stderr",
     "output_type": "stream",
     "text": [
      "  5%|▌         | 55588/1050000 [01:53<54:07, 306.25it/s]  "
     ]
    },
    {
     "name": "stdout",
     "output_type": "stream",
     "text": [
      "Step: 5538/950000 Episode 104: Total reward: 340.0 Explore P: 0.9950158\n"
     ]
    },
    {
     "name": "stderr",
     "output_type": "stream",
     "text": [
      "  5%|▌         | 55960/1050000 [01:55<56:56, 290.97it/s]"
     ]
    },
    {
     "name": "stdout",
     "output_type": "stream",
     "text": [
      "Step: 5912/950000 Episode 105: Total reward: 80.0 Explore P: 0.9946792\n"
     ]
    },
    {
     "name": "stderr",
     "output_type": "stream",
     "text": [
      "  5%|▌         | 56820/1050000 [01:58<55:17, 299.34it/s]  "
     ]
    },
    {
     "name": "stdout",
     "output_type": "stream",
     "text": [
      "Step: 6765/950000 Episode 106: Total reward: 235.0 Explore P: 0.9939115\n"
     ]
    },
    {
     "name": "stderr",
     "output_type": "stream",
     "text": [
      "  5%|▌         | 57190/1050000 [01:59<58:32, 282.66it/s]"
     ]
    },
    {
     "name": "stdout",
     "output_type": "stream",
     "text": [
      "Step: 7158/950000 Episode 107: Total reward: 105.0 Explore P: 0.9935578\n"
     ]
    },
    {
     "name": "stderr",
     "output_type": "stream",
     "text": [
      "  6%|▌         | 57868/1050000 [02:01<58:11, 284.19it/s]  "
     ]
    },
    {
     "name": "stdout",
     "output_type": "stream",
     "text": [
      "Step: 7832/950000 Episode 108: Total reward: 170.0 Explore P: 0.9929512\n"
     ]
    },
    {
     "name": "stderr",
     "output_type": "stream",
     "text": [
      "  6%|▌         | 58375/1050000 [02:03<58:51, 280.81it/s]  "
     ]
    },
    {
     "name": "stdout",
     "output_type": "stream",
     "text": [
      "Step: 8329/950000 Episode 109: Total reward: 120.0 Explore P: 0.9925039\n"
     ]
    },
    {
     "name": "stderr",
     "output_type": "stream",
     "text": [
      "  6%|▌         | 58876/1050000 [02:05<57:46, 285.94it/s]  "
     ]
    },
    {
     "name": "stdout",
     "output_type": "stream",
     "text": [
      "Step: 8833/950000 Episode 110: Total reward: 155.0 Explore P: 0.9920503\n"
     ]
    },
    {
     "name": "stderr",
     "output_type": "stream",
     "text": [
      "  6%|▌         | 59592/1050000 [02:07<55:19, 298.37it/s]"
     ]
    },
    {
     "name": "stdout",
     "output_type": "stream",
     "text": [
      "Step: 9534/950000 Episode 111: Total reward: 255.0 Explore P: 0.9914194\n"
     ]
    },
    {
     "name": "stderr",
     "output_type": "stream",
     "text": [
      "  6%|▌         | 60060/1050000 [02:09<56:51, 290.14it/s]"
     ]
    },
    {
     "name": "stdout",
     "output_type": "stream",
     "text": [
      "Step: 10008/950000 Episode 112: Total reward: 150.0 Explore P: 0.9909928\n"
     ]
    },
    {
     "name": "stderr",
     "output_type": "stream",
     "text": [
      "  6%|▌         | 60412/1050000 [02:10<59:52, 275.42it/s]  "
     ]
    },
    {
     "name": "stdout",
     "output_type": "stream",
     "text": [
      "Step: 10379/950000 Episode 113: Total reward: 40.0 Explore P: 0.9906589\n"
     ]
    },
    {
     "name": "stderr",
     "output_type": "stream",
     "text": [
      "  6%|▌         | 60801/1050000 [02:12<57:45, 285.44it/s]"
     ]
    },
    {
     "name": "stdout",
     "output_type": "stream",
     "text": [
      "Step: 10761/950000 Episode 114: Total reward: 55.0 Explore P: 0.9903151\n"
     ]
    },
    {
     "name": "stderr",
     "output_type": "stream",
     "text": [
      "  6%|▌         | 61295/1050000 [02:13<1:05:10, 252.85it/s]"
     ]
    },
    {
     "name": "stdout",
     "output_type": "stream",
     "text": [
      "Step: 11250/950000 Episode 115: Total reward: 135.0 Explore P: 0.989875\n"
     ]
    },
    {
     "name": "stderr",
     "output_type": "stream",
     "text": [
      "  6%|▌         | 62348/1050000 [02:17<1:00:04, 274.04it/s]"
     ]
    },
    {
     "name": "stdout",
     "output_type": "stream",
     "text": [
      "Step: 12320/950000 Episode 116: Total reward: 645.0 Explore P: 0.988912\n"
     ]
    },
    {
     "name": "stderr",
     "output_type": "stream",
     "text": [
      "  6%|▌         | 62851/1050000 [02:19<58:22, 281.83it/s]  "
     ]
    },
    {
     "name": "stdout",
     "output_type": "stream",
     "text": [
      "Step: 12817/950000 Episode 117: Total reward: 135.0 Explore P: 0.9884647\n"
     ]
    },
    {
     "name": "stderr",
     "output_type": "stream",
     "text": [
      "  6%|▌         | 63270/1050000 [02:20<55:10, 298.09it/s]  "
     ]
    },
    {
     "name": "stdout",
     "output_type": "stream",
     "text": [
      "Step: 13221/950000 Episode 118: Total reward: 105.0 Explore P: 0.9881011\n"
     ]
    },
    {
     "name": "stderr",
     "output_type": "stream",
     "text": [
      "  6%|▌         | 64088/1050000 [02:23<1:03:31, 258.68it/s]"
     ]
    },
    {
     "name": "stdout",
     "output_type": "stream",
     "text": [
      "Step: 14051/950000 Episode 119: Total reward: 315.0 Explore P: 0.9873541\n"
     ]
    },
    {
     "name": "stderr",
     "output_type": "stream",
     "text": [
      "  6%|▌         | 64898/1050000 [02:26<55:58, 293.31it/s]  "
     ]
    },
    {
     "name": "stdout",
     "output_type": "stream",
     "text": [
      "Step: 14837/950000 Episode 120: Total reward: 190.0 Explore P: 0.9866467\n"
     ]
    },
    {
     "name": "stderr",
     "output_type": "stream",
     "text": [
      "  6%|▌         | 65500/1050000 [02:28<57:15, 286.55it/s]  "
     ]
    },
    {
     "name": "stdout",
     "output_type": "stream",
     "text": [
      "Step: 15453/950000 Episode 121: Total reward: 410.0 Explore P: 0.9860923\n"
     ]
    },
    {
     "name": "stderr",
     "output_type": "stream",
     "text": [
      "  6%|▋         | 65780/1050000 [02:29<56:12, 291.84it/s]"
     ]
    },
    {
     "name": "stdout",
     "output_type": "stream",
     "text": [
      "Step: 15749/950000 Episode 122: Total reward: 40.0 Explore P: 0.9858259\n"
     ]
    },
    {
     "name": "stderr",
     "output_type": "stream",
     "text": [
      "  6%|▋         | 66663/1050000 [02:32<1:00:15, 271.99it/s]"
     ]
    },
    {
     "name": "stdout",
     "output_type": "stream",
     "text": [
      "Step: 16616/950000 Episode 123: Total reward: 135.0 Explore P: 0.9850456\n"
     ]
    },
    {
     "name": "stderr",
     "output_type": "stream",
     "text": [
      "  6%|▋         | 67148/1050000 [02:34<55:36, 294.56it/s]  "
     ]
    },
    {
     "name": "stdout",
     "output_type": "stream",
     "text": [
      "Step: 17102/950000 Episode 124: Total reward: 105.0 Explore P: 0.9846082\n"
     ]
    },
    {
     "name": "stderr",
     "output_type": "stream",
     "text": [
      "  6%|▋         | 67518/1050000 [02:35<55:48, 293.37it/s]"
     ]
    },
    {
     "name": "stdout",
     "output_type": "stream",
     "text": [
      "Step: 17490/950000 Episode 125: Total reward: 35.0 Explore P: 0.984259\n"
     ]
    },
    {
     "name": "stderr",
     "output_type": "stream",
     "text": [
      "  6%|▋         | 67984/1050000 [02:37<1:00:00, 272.71it/s]"
     ]
    },
    {
     "name": "stdout",
     "output_type": "stream",
     "text": [
      "Step: 17948/950000 Episode 126: Total reward: 130.0 Explore P: 0.9838468\n"
     ]
    },
    {
     "name": "stderr",
     "output_type": "stream",
     "text": [
      "  7%|▋         | 68472/1050000 [02:39<57:46, 283.14it/s]  "
     ]
    },
    {
     "name": "stdout",
     "output_type": "stream",
     "text": [
      "Step: 18423/950000 Episode 127: Total reward: 120.0 Explore P: 0.9834193\n"
     ]
    },
    {
     "name": "stderr",
     "output_type": "stream",
     "text": [
      "  7%|▋         | 69136/1050000 [02:41<56:07, 291.30it/s]  "
     ]
    },
    {
     "name": "stdout",
     "output_type": "stream",
     "text": [
      "Step: 19092/950000 Episode 128: Total reward: 110.0 Explore P: 0.9828172\n"
     ]
    },
    {
     "name": "stderr",
     "output_type": "stream",
     "text": [
      "  7%|▋         | 69560/1050000 [02:42<52:55, 308.79it/s]"
     ]
    },
    {
     "name": "stdout",
     "output_type": "stream",
     "text": [
      "Step: 19511/950000 Episode 129: Total reward: 35.0 Explore P: 0.9824401\n"
     ]
    },
    {
     "name": "stderr",
     "output_type": "stream",
     "text": [
      "  7%|▋         | 70013/1050000 [02:44<52:27, 311.37it/s]"
     ]
    },
    {
     "name": "stdout",
     "output_type": "stream",
     "text": [
      "Step: 19969/950000 Episode 130: Total reward: 135.0 Explore P: 0.9820279\n"
     ]
    },
    {
     "name": "stderr",
     "output_type": "stream",
     "text": [
      "  7%|▋         | 70300/1050000 [02:45<56:29, 289.04it/s]"
     ]
    },
    {
     "name": "stdout",
     "output_type": "stream",
     "text": [
      "Step: 20248/950000 Episode 131: Total reward: 105.0 Explore P: 0.9817768\n"
     ]
    },
    {
     "name": "stderr",
     "output_type": "stream",
     "text": [
      "  7%|▋         | 70764/1050000 [02:46<55:28, 294.20it/s]"
     ]
    },
    {
     "name": "stdout",
     "output_type": "stream",
     "text": [
      "Step: 20724/950000 Episode 132: Total reward: 120.0 Explore P: 0.9813484\n"
     ]
    },
    {
     "name": "stderr",
     "output_type": "stream",
     "text": [
      "  7%|▋         | 71279/1050000 [02:48<57:52, 281.88it/s]"
     ]
    },
    {
     "name": "stdout",
     "output_type": "stream",
     "text": [
      "Step: 21254/950000 Episode 133: Total reward: 155.0 Explore P: 0.9808714\n"
     ]
    },
    {
     "name": "stderr",
     "output_type": "stream",
     "text": [
      "  7%|▋         | 72335/1050000 [02:52<53:54, 302.28it/s]  "
     ]
    },
    {
     "name": "stdout",
     "output_type": "stream",
     "text": [
      "Step: 22280/950000 Episode 134: Total reward: 395.0 Explore P: 0.979948\n"
     ]
    },
    {
     "name": "stderr",
     "output_type": "stream",
     "text": [
      "  7%|▋         | 73234/1050000 [02:55<55:11, 294.94it/s]  "
     ]
    },
    {
     "name": "stdout",
     "output_type": "stream",
     "text": [
      "Step: 23201/950000 Episode 135: Total reward: 410.0 Explore P: 0.9791191\n"
     ]
    },
    {
     "name": "stderr",
     "output_type": "stream",
     "text": [
      "  7%|▋         | 73720/1050000 [02:57<54:40, 297.63it/s]  "
     ]
    },
    {
     "name": "stdout",
     "output_type": "stream",
     "text": [
      "Step: 23662/950000 Episode 136: Total reward: 85.0 Explore P: 0.9787042\n"
     ]
    },
    {
     "name": "stderr",
     "output_type": "stream",
     "text": [
      "  7%|▋         | 74167/1050000 [02:58<58:03, 280.13it/s]"
     ]
    },
    {
     "name": "stdout",
     "output_type": "stream",
     "text": [
      "Step: 24132/950000 Episode 137: Total reward: 135.0 Explore P: 0.9782812\n"
     ]
    },
    {
     "name": "stderr",
     "output_type": "stream",
     "text": [
      "  7%|▋         | 74765/1050000 [03:00<58:29, 277.92it/s]  "
     ]
    },
    {
     "name": "stdout",
     "output_type": "stream",
     "text": [
      "Step: 24738/950000 Episode 138: Total reward: 185.0 Explore P: 0.9777358\n"
     ]
    },
    {
     "name": "stderr",
     "output_type": "stream",
     "text": [
      "  7%|▋         | 75182/1050000 [03:02<57:03, 284.72it/s]"
     ]
    },
    {
     "name": "stdout",
     "output_type": "stream",
     "text": [
      "Step: 25148/950000 Episode 139: Total reward: 50.0 Explore P: 0.9773668\n"
     ]
    },
    {
     "name": "stderr",
     "output_type": "stream",
     "text": [
      "  7%|▋         | 75593/1050000 [03:03<58:01, 279.87it/s]  "
     ]
    },
    {
     "name": "stdout",
     "output_type": "stream",
     "text": [
      "Step: 25552/950000 Episode 140: Total reward: 65.0 Explore P: 0.9770032\n"
     ]
    },
    {
     "name": "stderr",
     "output_type": "stream",
     "text": [
      "  7%|▋         | 76191/1050000 [03:05<54:13, 299.33it/s]"
     ]
    },
    {
     "name": "stdout",
     "output_type": "stream",
     "text": [
      "Step: 26150/950000 Episode 141: Total reward: 185.0 Explore P: 0.976465\n"
     ]
    },
    {
     "name": "stderr",
     "output_type": "stream",
     "text": [
      "  7%|▋         | 76645/1050000 [03:07<54:57, 295.19it/s]  "
     ]
    },
    {
     "name": "stdout",
     "output_type": "stream",
     "text": [
      "Step: 26589/950000 Episode 142: Total reward: 100.0 Explore P: 0.9760699\n"
     ]
    },
    {
     "name": "stderr",
     "output_type": "stream",
     "text": [
      "  7%|▋         | 77087/1050000 [03:08<57:43, 280.91it/s]"
     ]
    },
    {
     "name": "stdout",
     "output_type": "stream",
     "text": [
      "Step: 27050/950000 Episode 143: Total reward: 155.0 Explore P: 0.975655\n"
     ]
    },
    {
     "name": "stderr",
     "output_type": "stream",
     "text": [
      "  7%|▋         | 77541/1050000 [03:10<55:51, 290.13it/s]  "
     ]
    },
    {
     "name": "stdout",
     "output_type": "stream",
     "text": [
      "Step: 27503/950000 Episode 144: Total reward: 105.0 Explore P: 0.9752473\n"
     ]
    },
    {
     "name": "stderr",
     "output_type": "stream",
     "text": [
      "  7%|▋         | 78380/1050000 [03:13<54:06, 299.31it/s]  "
     ]
    },
    {
     "name": "stdout",
     "output_type": "stream",
     "text": [
      "Step: 28334/950000 Episode 145: Total reward: 230.0 Explore P: 0.9744994\n"
     ]
    },
    {
     "name": "stderr",
     "output_type": "stream",
     "text": [
      "  8%|▊         | 79018/1050000 [03:15<58:31, 276.51it/s]"
     ]
    },
    {
     "name": "stdout",
     "output_type": "stream",
     "text": [
      "Step: 28985/950000 Episode 146: Total reward: 180.0 Explore P: 0.9739135\n"
     ]
    },
    {
     "name": "stderr",
     "output_type": "stream",
     "text": [
      "  8%|▊         | 79748/1050000 [03:17<1:01:59, 260.89it/s]"
     ]
    },
    {
     "name": "stdout",
     "output_type": "stream",
     "text": [
      "Step: 29718/950000 Episode 147: Total reward: 205.0 Explore P: 0.9732538\n"
     ]
    },
    {
     "name": "stderr",
     "output_type": "stream",
     "text": [
      "  8%|▊         | 80160/1050000 [03:19<52:26, 308.23it/s]  "
     ]
    },
    {
     "name": "stdout",
     "output_type": "stream",
     "text": [
      "Step: 30107/950000 Episode 148: Total reward: 50.0 Explore P: 0.9729037\n"
     ]
    },
    {
     "name": "stderr",
     "output_type": "stream",
     "text": [
      "  8%|▊         | 80672/1050000 [03:20<52:18, 308.81it/s]"
     ]
    },
    {
     "name": "stdout",
     "output_type": "stream",
     "text": [
      "Step: 30612/950000 Episode 149: Total reward: 90.0 Explore P: 0.9724492\n"
     ]
    },
    {
     "name": "stderr",
     "output_type": "stream",
     "text": [
      "  8%|▊         | 80944/1050000 [03:21<56:16, 286.98it/s]"
     ]
    },
    {
     "name": "stdout",
     "output_type": "stream",
     "text": [
      "Step: 30892/950000 Episode 150: Total reward: 50.0 Explore P: 0.9721972\n"
     ]
    },
    {
     "name": "stderr",
     "output_type": "stream",
     "text": [
      "  8%|▊         | 81348/1050000 [03:23<51:14, 315.03it/s]"
     ]
    },
    {
     "name": "stdout",
     "output_type": "stream",
     "text": [
      "Step: 31304/950000 Episode 151: Total reward: 75.0 Explore P: 0.9718264\n"
     ]
    },
    {
     "name": "stderr",
     "output_type": "stream",
     "text": [
      "  8%|▊         | 81980/1050000 [03:25<1:07:44, 238.18it/s]"
     ]
    },
    {
     "name": "stdout",
     "output_type": "stream",
     "text": [
      "Step: 31937/950000 Episode 152: Total reward: 215.0 Explore P: 0.9712567\n"
     ]
    },
    {
     "name": "stderr",
     "output_type": "stream",
     "text": [
      "  8%|▊         | 82537/1050000 [03:27<56:30, 285.37it/s]  "
     ]
    },
    {
     "name": "stdout",
     "output_type": "stream",
     "text": [
      "Step: 32511/950000 Episode 153: Total reward: 180.0 Explore P: 0.9707401\n"
     ]
    },
    {
     "name": "stderr",
     "output_type": "stream",
     "text": [
      "  8%|▊         | 83172/1050000 [03:29<51:43, 311.52it/s]  "
     ]
    },
    {
     "name": "stdout",
     "output_type": "stream",
     "text": [
      "Step: 33126/950000 Episode 154: Total reward: 140.0 Explore P: 0.9701866\n"
     ]
    },
    {
     "name": "stderr",
     "output_type": "stream",
     "text": [
      "  8%|▊         | 83571/1050000 [03:30<57:05, 282.12it/s]  "
     ]
    },
    {
     "name": "stdout",
     "output_type": "stream",
     "text": [
      "Step: 33523/950000 Episode 155: Total reward: 75.0 Explore P: 0.9698293\n"
     ]
    },
    {
     "name": "stderr",
     "output_type": "stream",
     "text": [
      "  8%|▊         | 84054/1050000 [03:32<58:02, 277.36it/s]  "
     ]
    },
    {
     "name": "stdout",
     "output_type": "stream",
     "text": [
      "Step: 34011/950000 Episode 156: Total reward: 105.0 Explore P: 0.9693901\n"
     ]
    },
    {
     "name": "stderr",
     "output_type": "stream",
     "text": [
      "  8%|▊         | 84620/1050000 [03:34<1:00:57, 263.96it/s]"
     ]
    },
    {
     "name": "stdout",
     "output_type": "stream",
     "text": [
      "Step: 34585/950000 Episode 157: Total reward: 165.0 Explore P: 0.9688734999999999\n"
     ]
    },
    {
     "name": "stderr",
     "output_type": "stream",
     "text": [
      "  8%|▊         | 85374/1050000 [03:37<57:04, 281.69it/s]  "
     ]
    },
    {
     "name": "stdout",
     "output_type": "stream",
     "text": [
      "Step: 35322/950000 Episode 158: Total reward: 350.0 Explore P: 0.9682102\n"
     ]
    },
    {
     "name": "stderr",
     "output_type": "stream",
     "text": [
      "  8%|▊         | 85975/1050000 [03:39<57:55, 277.42it/s]"
     ]
    },
    {
     "name": "stdout",
     "output_type": "stream",
     "text": [
      "Step: 35943/950000 Episode 159: Total reward: 210.0 Explore P: 0.9676513\n"
     ]
    },
    {
     "name": "stderr",
     "output_type": "stream",
     "text": [
      "  8%|▊         | 86494/1050000 [03:41<55:31, 289.17it/s]  "
     ]
    },
    {
     "name": "stdout",
     "output_type": "stream",
     "text": [
      "Step: 36463/950000 Episode 160: Total reward: 135.0 Explore P: 0.9671833\n"
     ]
    },
    {
     "name": "stderr",
     "output_type": "stream",
     "text": [
      "  8%|▊         | 87133/1050000 [03:43<56:20, 284.80it/s]"
     ]
    },
    {
     "name": "stdout",
     "output_type": "stream",
     "text": [
      "Step: 37084/950000 Episode 161: Total reward: 210.0 Explore P: 0.9666244\n"
     ]
    },
    {
     "name": "stderr",
     "output_type": "stream",
     "text": [
      "  8%|▊         | 87489/1050000 [03:44<57:15, 280.17it/s]"
     ]
    },
    {
     "name": "stdout",
     "output_type": "stream",
     "text": [
      "Step: 37461/950000 Episode 162: Total reward: 110.0 Explore P: 0.9662851\n"
     ]
    },
    {
     "name": "stderr",
     "output_type": "stream",
     "text": [
      "  8%|▊         | 88064/1050000 [03:46<56:25, 284.17it/s]  "
     ]
    },
    {
     "name": "stdout",
     "output_type": "stream",
     "text": [
      "Step: 38031/950000 Episode 163: Total reward: 210.0 Explore P: 0.9657721\n"
     ]
    },
    {
     "name": "stderr",
     "output_type": "stream",
     "text": [
      "  8%|▊         | 88521/1050000 [03:48<54:12, 295.63it/s]"
     ]
    },
    {
     "name": "stdout",
     "output_type": "stream",
     "text": [
      "Step: 38468/950000 Episode 164: Total reward: 80.0 Explore P: 0.9653788\n"
     ]
    },
    {
     "name": "stderr",
     "output_type": "stream",
     "text": [
      "  8%|▊         | 89127/1050000 [03:50<58:44, 272.64it/s]  "
     ]
    },
    {
     "name": "stdout",
     "output_type": "stream",
     "text": [
      "Step: 39087/950000 Episode 165: Total reward: 180.0 Explore P: 0.9648217\n"
     ]
    },
    {
     "name": "stderr",
     "output_type": "stream",
     "text": [
      "  9%|▊         | 89616/1050000 [03:52<54:54, 291.54it/s]"
     ]
    },
    {
     "name": "stdout",
     "output_type": "stream",
     "text": [
      "Step: 39574/950000 Episode 166: Total reward: 120.0 Explore P: 0.9643834\n"
     ]
    },
    {
     "name": "stderr",
     "output_type": "stream",
     "text": [
      "  9%|▊         | 90132/1050000 [03:53<56:36, 282.61it/s]"
     ]
    },
    {
     "name": "stdout",
     "output_type": "stream",
     "text": [
      "Step: 40099/950000 Episode 167: Total reward: 210.0 Explore P: 0.9639109\n"
     ]
    },
    {
     "name": "stderr",
     "output_type": "stream",
     "text": [
      "  9%|▊         | 90616/1050000 [03:55<1:02:26, 256.08it/s]"
     ]
    },
    {
     "name": "stdout",
     "output_type": "stream",
     "text": [
      "Step: 40593/950000 Episode 168: Total reward: 145.0 Explore P: 0.9634663\n"
     ]
    },
    {
     "name": "stderr",
     "output_type": "stream",
     "text": [
      "  9%|▊         | 91316/1050000 [03:58<55:17, 289.02it/s]  "
     ]
    },
    {
     "name": "stdout",
     "output_type": "stream",
     "text": [
      "Step: 41283/950000 Episode 169: Total reward: 380.0 Explore P: 0.9628453\n"
     ]
    },
    {
     "name": "stderr",
     "output_type": "stream",
     "text": [
      "  9%|▊         | 91712/1050000 [03:59<55:35, 287.28it/s]"
     ]
    },
    {
     "name": "stdout",
     "output_type": "stream",
     "text": [
      "Step: 41666/950000 Episode 170: Total reward: 50.0 Explore P: 0.9625006\n"
     ]
    },
    {
     "name": "stderr",
     "output_type": "stream",
     "text": [
      "  9%|▉         | 92312/1050000 [04:01<54:26, 293.18it/s]  "
     ]
    },
    {
     "name": "stdout",
     "output_type": "stream",
     "text": [
      "Step: 42269/950000 Episode 171: Total reward: 185.0 Explore P: 0.9619579\n"
     ]
    },
    {
     "name": "stderr",
     "output_type": "stream",
     "text": [
      "  9%|▉         | 92902/1050000 [04:03<56:21, 283.02it/s]"
     ]
    },
    {
     "name": "stdout",
     "output_type": "stream",
     "text": [
      "Step: 42871/950000 Episode 172: Total reward: 210.0 Explore P: 0.9614161\n"
     ]
    },
    {
     "name": "stderr",
     "output_type": "stream",
     "text": [
      "  9%|▉         | 93171/1050000 [04:04<57:09, 279.01it/s]"
     ]
    },
    {
     "name": "stdout",
     "output_type": "stream",
     "text": [
      "Step: 43124/950000 Episode 173: Total reward: 30.0 Explore P: 0.9611883999999999\n"
     ]
    },
    {
     "name": "stderr",
     "output_type": "stream",
     "text": [
      "  9%|▉         | 93607/1050000 [04:06<1:06:21, 240.24it/s]"
     ]
    },
    {
     "name": "stdout",
     "output_type": "stream",
     "text": [
      "Step: 43576/950000 Episode 174: Total reward: 90.0 Explore P: 0.9607816\n"
     ]
    },
    {
     "name": "stderr",
     "output_type": "stream",
     "text": [
      "  9%|▉         | 94156/1050000 [04:07<55:14, 288.34it/s]  "
     ]
    },
    {
     "name": "stdout",
     "output_type": "stream",
     "text": [
      "Step: 44103/950000 Episode 175: Total reward: 200.0 Explore P: 0.9603073\n"
     ]
    },
    {
     "name": "stderr",
     "output_type": "stream",
     "text": [
      "  9%|▉         | 94742/1050000 [04:10<1:04:13, 247.86it/s]"
     ]
    },
    {
     "name": "stdout",
     "output_type": "stream",
     "text": [
      "Step: 44712/950000 Episode 176: Total reward: 260.0 Explore P: 0.9597592\n"
     ]
    },
    {
     "name": "stderr",
     "output_type": "stream",
     "text": [
      "  9%|▉         | 95054/1050000 [04:11<58:16, 273.15it/s]  "
     ]
    },
    {
     "name": "stdout",
     "output_type": "stream",
     "text": [
      "Step: 45009/950000 Episode 177: Total reward: 40.0 Explore P: 0.9594919\n"
     ]
    },
    {
     "name": "stderr",
     "output_type": "stream",
     "text": [
      "  9%|▉         | 95539/1050000 [04:12<56:44, 280.34it/s]  "
     ]
    },
    {
     "name": "stdout",
     "output_type": "stream",
     "text": [
      "Step: 45490/950000 Episode 178: Total reward: 135.0 Explore P: 0.959059\n"
     ]
    },
    {
     "name": "stderr",
     "output_type": "stream",
     "text": [
      "  9%|▉         | 95940/1050000 [04:14<58:45, 270.59it/s]"
     ]
    },
    {
     "name": "stdout",
     "output_type": "stream",
     "text": [
      "Step: 45900/950000 Episode 179: Total reward: 120.0 Explore P: 0.95869\n"
     ]
    },
    {
     "name": "stderr",
     "output_type": "stream",
     "text": [
      "  9%|▉         | 96467/1050000 [04:16<57:12, 277.81it/s]  "
     ]
    },
    {
     "name": "stdout",
     "output_type": "stream",
     "text": [
      "Step: 46431/950000 Episode 180: Total reward: 105.0 Explore P: 0.9582121\n"
     ]
    },
    {
     "name": "stderr",
     "output_type": "stream",
     "text": [
      "  9%|▉         | 97040/1050000 [04:18<54:41, 290.38it/s]"
     ]
    },
    {
     "name": "stdout",
     "output_type": "stream",
     "text": [
      "Step: 46988/950000 Episode 181: Total reward: 120.0 Explore P: 0.9577108\n"
     ]
    },
    {
     "name": "stderr",
     "output_type": "stream",
     "text": [
      "  9%|▉         | 97305/1050000 [04:19<58:31, 271.29it/s]  "
     ]
    },
    {
     "name": "stdout",
     "output_type": "stream",
     "text": [
      "Step: 47269/950000 Episode 182: Total reward: 65.0 Explore P: 0.9574579\n"
     ]
    },
    {
     "name": "stderr",
     "output_type": "stream",
     "text": [
      "  9%|▉         | 97688/1050000 [04:20<55:59, 283.47it/s]"
     ]
    },
    {
     "name": "stdout",
     "output_type": "stream",
     "text": [
      "Step: 47654/950000 Episode 183: Total reward: 65.0 Explore P: 0.9571114000000001\n"
     ]
    },
    {
     "name": "stderr",
     "output_type": "stream",
     "text": [
      "  9%|▉         | 98503/1050000 [04:23<54:16, 292.21it/s]"
     ]
    },
    {
     "name": "stdout",
     "output_type": "stream",
     "text": [
      "Step: 48455/950000 Episode 184: Total reward: 285.0 Explore P: 0.9563905\n"
     ]
    },
    {
     "name": "stderr",
     "output_type": "stream",
     "text": [
      "  9%|▉         | 99370/1050000 [04:26<57:33, 275.30it/s]"
     ]
    },
    {
     "name": "stdout",
     "output_type": "stream",
     "text": [
      "Step: 49326/950000 Episode 185: Total reward: 365.0 Explore P: 0.9556066\n"
     ]
    },
    {
     "name": "stderr",
     "output_type": "stream",
     "text": [
      "  9%|▉         | 99644/1050000 [04:27<53:58, 293.47it/s]"
     ]
    },
    {
     "name": "stdout",
     "output_type": "stream",
     "text": [
      "Step: 49589/950000 Episode 186: Total reward: 80.0 Explore P: 0.9553699\n"
     ]
    },
    {
     "name": "stderr",
     "output_type": "stream",
     "text": [
      " 10%|▉         | 100038/1050000 [04:28<55:31, 285.14it/s]"
     ]
    },
    {
     "name": "stdout",
     "output_type": "stream",
     "text": [
      "Step: 50004/950000 Episode 187: Total reward: 110.0 Explore P: 0.9549964\n"
     ]
    },
    {
     "name": "stderr",
     "output_type": "stream",
     "text": [
      " 10%|▉         | 100676/1050000 [04:31<55:05, 287.17it/s]  "
     ]
    },
    {
     "name": "stdout",
     "output_type": "stream",
     "text": [
      "Step: 50623/950000 Episode 188: Total reward: 160.0 Explore P: 0.9544393\n"
     ]
    },
    {
     "name": "stderr",
     "output_type": "stream",
     "text": [
      " 10%|▉         | 101167/1050000 [04:32<54:49, 288.48it/s]"
     ]
    },
    {
     "name": "stdout",
     "output_type": "stream",
     "text": [
      "Step: 51125/950000 Episode 189: Total reward: 110.0 Explore P: 0.9539875\n"
     ]
    },
    {
     "name": "stderr",
     "output_type": "stream",
     "text": [
      " 10%|▉         | 101742/1050000 [04:34<52:39, 300.13it/s]  "
     ]
    },
    {
     "name": "stdout",
     "output_type": "stream",
     "text": [
      "Step: 51707/950000 Episode 190: Total reward: 225.0 Explore P: 0.9534637\n"
     ]
    },
    {
     "name": "stderr",
     "output_type": "stream",
     "text": [
      " 10%|▉         | 102339/1050000 [04:36<55:00, 287.14it/s]"
     ]
    },
    {
     "name": "stdout",
     "output_type": "stream",
     "text": [
      "Step: 52309/950000 Episode 191: Total reward: 210.0 Explore P: 0.9529219\n"
     ]
    },
    {
     "name": "stderr",
     "output_type": "stream",
     "text": [
      " 10%|▉         | 102724/1050000 [04:38<56:05, 281.47it/s]"
     ]
    },
    {
     "name": "stdout",
     "output_type": "stream",
     "text": [
      "Step: 52676/950000 Episode 192: Total reward: 20.0 Explore P: 0.9525916\n"
     ]
    },
    {
     "name": "stderr",
     "output_type": "stream",
     "text": [
      " 10%|▉         | 103104/1050000 [04:39<58:32, 269.56it/s]  "
     ]
    },
    {
     "name": "stdout",
     "output_type": "stream",
     "text": [
      "Step: 53051/950000 Episode 193: Total reward: 45.0 Explore P: 0.9522541\n"
     ]
    },
    {
     "name": "stderr",
     "output_type": "stream",
     "text": [
      " 10%|▉         | 103619/1050000 [04:41<54:03, 291.82it/s]"
     ]
    },
    {
     "name": "stdout",
     "output_type": "stream",
     "text": [
      "Step: 53577/950000 Episode 194: Total reward: 135.0 Explore P: 0.9517807\n"
     ]
    },
    {
     "name": "stderr",
     "output_type": "stream",
     "text": [
      " 10%|▉         | 104256/1050000 [04:43<55:10, 285.64it/s]"
     ]
    },
    {
     "name": "stdout",
     "output_type": "stream",
     "text": [
      "Step: 54220/950000 Episode 195: Total reward: 210.0 Explore P: 0.951202\n"
     ]
    },
    {
     "name": "stderr",
     "output_type": "stream",
     "text": [
      " 10%|▉         | 104732/1050000 [04:45<55:05, 285.93it/s]  "
     ]
    },
    {
     "name": "stdout",
     "output_type": "stream",
     "text": [
      "Step: 54686/950000 Episode 196: Total reward: 40.0 Explore P: 0.9507826\n"
     ]
    },
    {
     "name": "stderr",
     "output_type": "stream",
     "text": [
      " 10%|█         | 105347/1050000 [04:47<56:04, 280.80it/s]"
     ]
    },
    {
     "name": "stdout",
     "output_type": "stream",
     "text": [
      "Step: 55303/950000 Episode 197: Total reward: 210.0 Explore P: 0.9502273\n"
     ]
    },
    {
     "name": "stderr",
     "output_type": "stream",
     "text": [
      " 10%|█         | 105662/1050000 [04:48<57:57, 271.53it/s]"
     ]
    },
    {
     "name": "stdout",
     "output_type": "stream",
     "text": [
      "Step: 55622/950000 Episode 198: Total reward: 30.0 Explore P: 0.9499402\n"
     ]
    },
    {
     "name": "stderr",
     "output_type": "stream",
     "text": [
      " 10%|█         | 105956/1050000 [04:49<54:32, 288.50it/s]"
     ]
    },
    {
     "name": "stdout",
     "output_type": "stream",
     "text": [
      "Step: 55910/950000 Episode 199: Total reward: 50.0 Explore P: 0.949681\n"
     ]
    },
    {
     "name": "stderr",
     "output_type": "stream",
     "text": [
      " 10%|█         | 106736/1050000 [04:52<51:06, 307.58it/s]"
     ]
    },
    {
     "name": "stdout",
     "output_type": "stream",
     "text": [
      "Step: 56677/950000 Episode 200: Total reward: 255.0 Explore P: 0.9489907\n"
     ]
    },
    {
     "name": "stderr",
     "output_type": "stream",
     "text": [
      " 10%|█         | 107349/1050000 [04:54<56:57, 275.86it/s]"
     ]
    },
    {
     "name": "stdout",
     "output_type": "stream",
     "text": [
      "Step: 57321/950000 Episode 201: Total reward: 120.0 Explore P: 0.9484111\n"
     ]
    },
    {
     "name": "stderr",
     "output_type": "stream",
     "text": [
      " 10%|█         | 107812/1050000 [04:56<57:42, 272.14it/s]"
     ]
    },
    {
     "name": "stdout",
     "output_type": "stream",
     "text": [
      "Step: 57781/950000 Episode 202: Total reward: 135.0 Explore P: 0.9479971\n"
     ]
    },
    {
     "name": "stderr",
     "output_type": "stream",
     "text": [
      " 10%|█         | 108346/1050000 [04:57<51:58, 301.92it/s]"
     ]
    },
    {
     "name": "stdout",
     "output_type": "stream",
     "text": [
      "Step: 58294/950000 Episode 203: Total reward: 120.0 Explore P: 0.9475354\n"
     ]
    },
    {
     "name": "stderr",
     "output_type": "stream",
     "text": [
      " 10%|█         | 108828/1050000 [04:59<52:57, 296.22it/s]  "
     ]
    },
    {
     "name": "stdout",
     "output_type": "stream",
     "text": [
      "Step: 58789/950000 Episode 204: Total reward: 135.0 Explore P: 0.9470899\n"
     ]
    },
    {
     "name": "stderr",
     "output_type": "stream",
     "text": [
      " 10%|█         | 109196/1050000 [05:00<54:50, 285.96it/s]"
     ]
    },
    {
     "name": "stdout",
     "output_type": "stream",
     "text": [
      "Step: 59146/950000 Episode 205: Total reward: 90.0 Explore P: 0.9467686\n"
     ]
    },
    {
     "name": "stderr",
     "output_type": "stream",
     "text": [
      " 10%|█         | 109497/1050000 [05:01<54:42, 286.55it/s]"
     ]
    },
    {
     "name": "stdout",
     "output_type": "stream",
     "text": [
      "Step: 59463/950000 Episode 206: Total reward: 45.0 Explore P: 0.9464833\n"
     ]
    },
    {
     "name": "stderr",
     "output_type": "stream",
     "text": [
      " 10%|█         | 109972/1050000 [05:03<58:02, 269.94it/s]  "
     ]
    },
    {
     "name": "stdout",
     "output_type": "stream",
     "text": [
      "Step: 59938/950000 Episode 207: Total reward: 110.0 Explore P: 0.9460558\n"
     ]
    },
    {
     "name": "stderr",
     "output_type": "stream",
     "text": [
      " 11%|█         | 110652/1050000 [05:06<1:00:21, 259.40it/s]"
     ]
    },
    {
     "name": "stdout",
     "output_type": "stream",
     "text": [
      "Step: 60599/950000 Episode 208: Total reward: 470.0 Explore P: 0.9454609\n"
     ]
    },
    {
     "name": "stderr",
     "output_type": "stream",
     "text": [
      " 11%|█         | 111027/1050000 [05:07<52:02, 300.72it/s]  "
     ]
    },
    {
     "name": "stdout",
     "output_type": "stream",
     "text": [
      "Step: 60983/950000 Episode 209: Total reward: 80.0 Explore P: 0.9451153\n"
     ]
    },
    {
     "name": "stderr",
     "output_type": "stream",
     "text": [
      " 11%|█         | 111432/1050000 [05:08<52:44, 296.57it/s]"
     ]
    },
    {
     "name": "stdout",
     "output_type": "stream",
     "text": [
      "Step: 61387/950000 Episode 210: Total reward: 60.0 Explore P: 0.9447517\n"
     ]
    },
    {
     "name": "stderr",
     "output_type": "stream",
     "text": [
      " 11%|█         | 111920/1050000 [05:10<56:37, 276.10it/s]  "
     ]
    },
    {
     "name": "stdout",
     "output_type": "stream",
     "text": [
      "Step: 61865/950000 Episode 211: Total reward: 155.0 Explore P: 0.9443215\n"
     ]
    },
    {
     "name": "stderr",
     "output_type": "stream",
     "text": [
      " 11%|█         | 112288/1050000 [05:11<52:12, 299.34it/s]"
     ]
    },
    {
     "name": "stdout",
     "output_type": "stream",
     "text": [
      "Step: 62252/950000 Episode 212: Total reward: 35.0 Explore P: 0.9439732\n"
     ]
    },
    {
     "name": "stderr",
     "output_type": "stream",
     "text": [
      " 11%|█         | 112946/1050000 [05:14<55:52, 279.51it/s]  "
     ]
    },
    {
     "name": "stdout",
     "output_type": "stream",
     "text": [
      "Step: 62885/950000 Episode 213: Total reward: 150.0 Explore P: 0.9434035\n"
     ]
    },
    {
     "name": "stderr",
     "output_type": "stream",
     "text": [
      " 11%|█         | 113417/1050000 [05:15<54:50, 284.60it/s]"
     ]
    },
    {
     "name": "stdout",
     "output_type": "stream",
     "text": [
      "Step: 63369/950000 Episode 214: Total reward: 170.0 Explore P: 0.9429679\n"
     ]
    },
    {
     "name": "stderr",
     "output_type": "stream",
     "text": [
      " 11%|█         | 114009/1050000 [05:17<53:31, 291.46it/s]"
     ]
    },
    {
     "name": "stdout",
     "output_type": "stream",
     "text": [
      "Step: 63953/950000 Episode 215: Total reward: 105.0 Explore P: 0.9424423\n"
     ]
    },
    {
     "name": "stderr",
     "output_type": "stream",
     "text": [
      " 11%|█         | 114499/1050000 [05:19<50:32, 308.49it/s]  "
     ]
    },
    {
     "name": "stdout",
     "output_type": "stream",
     "text": [
      "Step: 64439/950000 Episode 216: Total reward: 110.0 Explore P: 0.9420049\n"
     ]
    },
    {
     "name": "stderr",
     "output_type": "stream",
     "text": [
      " 11%|█         | 114904/1050000 [05:20<54:32, 285.75it/s]"
     ]
    },
    {
     "name": "stdout",
     "output_type": "stream",
     "text": [
      "Step: 64853/950000 Episode 217: Total reward: 85.0 Explore P: 0.9416323\n"
     ]
    },
    {
     "name": "stderr",
     "output_type": "stream",
     "text": [
      " 11%|█         | 115441/1050000 [05:22<55:39, 279.85it/s]  "
     ]
    },
    {
     "name": "stdout",
     "output_type": "stream",
     "text": [
      "Step: 65392/950000 Episode 218: Total reward: 100.0 Explore P: 0.9411472\n"
     ]
    },
    {
     "name": "stderr",
     "output_type": "stream",
     "text": [
      " 11%|█         | 115761/1050000 [05:23<53:02, 293.51it/s]"
     ]
    },
    {
     "name": "stdout",
     "output_type": "stream",
     "text": [
      "Step: 65717/950000 Episode 219: Total reward: 125.0 Explore P: 0.9408547\n"
     ]
    },
    {
     "name": "stderr",
     "output_type": "stream",
     "text": [
      " 11%|█         | 116268/1050000 [05:25<51:52, 300.03it/s]"
     ]
    },
    {
     "name": "stdout",
     "output_type": "stream",
     "text": [
      "Step: 66226/950000 Episode 220: Total reward: 105.0 Explore P: 0.9403966\n"
     ]
    },
    {
     "name": "stderr",
     "output_type": "stream",
     "text": [
      " 11%|█         | 116633/1050000 [05:26<55:57, 278.01it/s]  "
     ]
    },
    {
     "name": "stdout",
     "output_type": "stream",
     "text": [
      "Step: 66600/950000 Episode 221: Total reward: 30.0 Explore P: 0.94006\n"
     ]
    },
    {
     "name": "stderr",
     "output_type": "stream",
     "text": [
      " 11%|█         | 117246/1050000 [05:28<49:24, 314.63it/s]"
     ]
    },
    {
     "name": "stdout",
     "output_type": "stream",
     "text": [
      "Step: 67213/950000 Episode 222: Total reward: 165.0 Explore P: 0.9395083\n"
     ]
    },
    {
     "name": "stderr",
     "output_type": "stream",
     "text": [
      " 11%|█         | 117762/1050000 [05:30<49:06, 316.37it/s]"
     ]
    },
    {
     "name": "stdout",
     "output_type": "stream",
     "text": [
      "Step: 67714/950000 Episode 223: Total reward: 80.0 Explore P: 0.9390574\n"
     ]
    },
    {
     "name": "stderr",
     "output_type": "stream",
     "text": [
      " 11%|█▏        | 118268/1050000 [05:31<52:05, 298.12it/s]"
     ]
    },
    {
     "name": "stdout",
     "output_type": "stream",
     "text": [
      "Step: 68220/950000 Episode 224: Total reward: 135.0 Explore P: 0.938602\n"
     ]
    },
    {
     "name": "stderr",
     "output_type": "stream",
     "text": [
      " 11%|█▏        | 119413/1050000 [05:35<53:34, 289.53it/s]"
     ]
    },
    {
     "name": "stdout",
     "output_type": "stream",
     "text": [
      "Step: 69373/950000 Episode 225: Total reward: 500.0 Explore P: 0.9375643\n"
     ]
    },
    {
     "name": "stderr",
     "output_type": "stream",
     "text": [
      " 11%|█▏        | 120027/1050000 [05:37<49:48, 311.21it/s]"
     ]
    },
    {
     "name": "stdout",
     "output_type": "stream",
     "text": [
      "Step: 69964/950000 Episode 226: Total reward: 160.0 Explore P: 0.9370324\n"
     ]
    },
    {
     "name": "stderr",
     "output_type": "stream",
     "text": [
      " 11%|█▏        | 120478/1050000 [05:39<50:39, 305.80it/s]"
     ]
    },
    {
     "name": "stdout",
     "output_type": "stream",
     "text": [
      "Step: 70447/950000 Episode 227: Total reward: 50.0 Explore P: 0.9365977\n"
     ]
    },
    {
     "name": "stderr",
     "output_type": "stream",
     "text": [
      " 12%|█▏        | 121176/1050000 [05:41<49:40, 311.67it/s]"
     ]
    },
    {
     "name": "stdout",
     "output_type": "stream",
     "text": [
      "Step: 71145/950000 Episode 228: Total reward: 500.0 Explore P: 0.9359695\n"
     ]
    },
    {
     "name": "stderr",
     "output_type": "stream",
     "text": [
      " 12%|█▏        | 121759/1050000 [05:43<50:26, 306.69it/s]"
     ]
    },
    {
     "name": "stdout",
     "output_type": "stream",
     "text": [
      "Step: 71726/950000 Episode 229: Total reward: 140.0 Explore P: 0.9354466\n"
     ]
    },
    {
     "name": "stderr",
     "output_type": "stream",
     "text": [
      " 12%|█▏        | 122330/1050000 [05:45<49:26, 312.73it/s]"
     ]
    },
    {
     "name": "stdout",
     "output_type": "stream",
     "text": [
      "Step: 72284/950000 Episode 230: Total reward: 120.0 Explore P: 0.9349444\n"
     ]
    },
    {
     "name": "stderr",
     "output_type": "stream",
     "text": [
      " 12%|█▏        | 122778/1050000 [05:46<50:56, 303.33it/s]"
     ]
    },
    {
     "name": "stdout",
     "output_type": "stream",
     "text": [
      "Step: 72746/950000 Episode 231: Total reward: 90.0 Explore P: 0.9345286\n"
     ]
    },
    {
     "name": "stderr",
     "output_type": "stream",
     "text": [
      " 12%|█▏        | 123180/1050000 [05:47<52:50, 292.30it/s]"
     ]
    },
    {
     "name": "stdout",
     "output_type": "stream",
     "text": [
      "Step: 73147/950000 Episode 232: Total reward: 120.0 Explore P: 0.9341677\n"
     ]
    },
    {
     "name": "stderr",
     "output_type": "stream",
     "text": [
      " 12%|█▏        | 123512/1050000 [05:48<53:46, 287.19it/s]  "
     ]
    },
    {
     "name": "stdout",
     "output_type": "stream",
     "text": [
      "Step: 73462/950000 Episode 233: Total reward: 30.0 Explore P: 0.9338842\n"
     ]
    },
    {
     "name": "stderr",
     "output_type": "stream",
     "text": [
      " 12%|█▏        | 123891/1050000 [05:50<51:51, 297.62it/s]"
     ]
    },
    {
     "name": "stdout",
     "output_type": "stream",
     "text": [
      "Step: 73842/950000 Episode 234: Total reward: 120.0 Explore P: 0.9335422\n"
     ]
    },
    {
     "name": "stderr",
     "output_type": "stream",
     "text": [
      " 12%|█▏        | 124356/1050000 [05:51<53:01, 290.97it/s]"
     ]
    },
    {
     "name": "stdout",
     "output_type": "stream",
     "text": [
      "Step: 74306/950000 Episode 235: Total reward: 180.0 Explore P: 0.9331246\n"
     ]
    },
    {
     "name": "stderr",
     "output_type": "stream",
     "text": [
      " 12%|█▏        | 124840/1050000 [05:53<52:23, 294.26it/s]"
     ]
    },
    {
     "name": "stdout",
     "output_type": "stream",
     "text": [
      "Step: 74784/950000 Episode 236: Total reward: 175.0 Explore P: 0.9326944\n"
     ]
    },
    {
     "name": "stderr",
     "output_type": "stream",
     "text": [
      " 12%|█▏        | 125316/1050000 [05:55<50:08, 307.31it/s]"
     ]
    },
    {
     "name": "stdout",
     "output_type": "stream",
     "text": [
      "Step: 75271/950000 Episode 237: Total reward: 110.0 Explore P: 0.9322561\n"
     ]
    },
    {
     "name": "stderr",
     "output_type": "stream",
     "text": [
      " 12%|█▏        | 125740/1050000 [05:56<53:02, 290.39it/s]"
     ]
    },
    {
     "name": "stdout",
     "output_type": "stream",
     "text": [
      "Step: 75714/950000 Episode 238: Total reward: 180.0 Explore P: 0.9318574\n"
     ]
    },
    {
     "name": "stderr",
     "output_type": "stream",
     "text": [
      " 12%|█▏        | 126245/1050000 [05:58<48:55, 314.72it/s]  "
     ]
    },
    {
     "name": "stdout",
     "output_type": "stream",
     "text": [
      "Step: 76195/950000 Episode 239: Total reward: 110.0 Explore P: 0.9314245\n"
     ]
    },
    {
     "name": "stderr",
     "output_type": "stream",
     "text": [
      " 12%|█▏        | 126726/1050000 [05:59<49:45, 309.26it/s]"
     ]
    },
    {
     "name": "stdout",
     "output_type": "stream",
     "text": [
      "Step: 76682/950000 Episode 240: Total reward: 115.0 Explore P: 0.9309862\n"
     ]
    },
    {
     "name": "stderr",
     "output_type": "stream",
     "text": [
      " 12%|█▏        | 127129/1050000 [06:01<51:33, 298.29it/s]"
     ]
    },
    {
     "name": "stdout",
     "output_type": "stream",
     "text": [
      "Step: 77079/950000 Episode 241: Total reward: 210.0 Explore P: 0.9306289\n"
     ]
    },
    {
     "name": "stderr",
     "output_type": "stream",
     "text": [
      " 12%|█▏        | 127426/1050000 [06:02<52:02, 295.46it/s]  "
     ]
    },
    {
     "name": "stdout",
     "output_type": "stream",
     "text": [
      "Step: 77381/950000 Episode 242: Total reward: 125.0 Explore P: 0.9303570999999999\n"
     ]
    },
    {
     "name": "stderr",
     "output_type": "stream",
     "text": [
      " 12%|█▏        | 127901/1050000 [06:03<53:56, 284.86it/s]"
     ]
    },
    {
     "name": "stdout",
     "output_type": "stream",
     "text": [
      "Step: 77849/950000 Episode 243: Total reward: 70.0 Explore P: 0.9299359\n"
     ]
    },
    {
     "name": "stderr",
     "output_type": "stream",
     "text": [
      " 12%|█▏        | 128599/1050000 [06:06<51:12, 299.87it/s]  "
     ]
    },
    {
     "name": "stdout",
     "output_type": "stream",
     "text": [
      "Step: 78556/950000 Episode 244: Total reward: 175.0 Explore P: 0.9292996\n"
     ]
    },
    {
     "name": "stderr",
     "output_type": "stream",
     "text": [
      " 12%|█▏        | 129113/1050000 [06:07<53:41, 285.84it/s]"
     ]
    },
    {
     "name": "stdout",
     "output_type": "stream",
     "text": [
      "Step: 79073/950000 Episode 245: Total reward: 185.0 Explore P: 0.9288343\n"
     ]
    },
    {
     "name": "stderr",
     "output_type": "stream",
     "text": [
      " 12%|█▏        | 129850/1050000 [06:10<51:45, 296.26it/s]"
     ]
    },
    {
     "name": "stdout",
     "output_type": "stream",
     "text": [
      "Step: 79804/950000 Episode 246: Total reward: 160.0 Explore P: 0.9281764\n"
     ]
    },
    {
     "name": "stderr",
     "output_type": "stream",
     "text": [
      " 12%|█▏        | 130604/1050000 [06:12<52:23, 292.43it/s]"
     ]
    },
    {
     "name": "stdout",
     "output_type": "stream",
     "text": [
      "Step: 80557/950000 Episode 247: Total reward: 260.0 Explore P: 0.9274987\n"
     ]
    },
    {
     "name": "stderr",
     "output_type": "stream",
     "text": [
      " 12%|█▏        | 131190/1050000 [06:15<49:42, 308.12it/s]  "
     ]
    },
    {
     "name": "stdout",
     "output_type": "stream",
     "text": [
      "Step: 81143/950000 Episode 248: Total reward: 155.0 Explore P: 0.9269712999999999\n"
     ]
    },
    {
     "name": "stderr",
     "output_type": "stream",
     "text": [
      " 13%|█▎        | 131822/1050000 [06:17<51:21, 297.93it/s]"
     ]
    },
    {
     "name": "stdout",
     "output_type": "stream",
     "text": [
      "Step: 81770/950000 Episode 249: Total reward: 200.0 Explore P: 0.926407\n"
     ]
    },
    {
     "name": "stderr",
     "output_type": "stream",
     "text": [
      " 13%|█▎        | 132310/1050000 [06:18<49:33, 308.60it/s]  "
     ]
    },
    {
     "name": "stdout",
     "output_type": "stream",
     "text": [
      "Step: 82258/950000 Episode 250: Total reward: 145.0 Explore P: 0.9259678\n"
     ]
    },
    {
     "name": "stderr",
     "output_type": "stream",
     "text": [
      " 13%|█▎        | 132796/1050000 [06:20<49:50, 306.69it/s]"
     ]
    },
    {
     "name": "stdout",
     "output_type": "stream",
     "text": [
      "Step: 82737/950000 Episode 251: Total reward: 155.0 Explore P: 0.9255367\n"
     ]
    },
    {
     "name": "stderr",
     "output_type": "stream",
     "text": [
      " 13%|█▎        | 133785/1050000 [06:23<51:07, 298.68it/s]"
     ]
    },
    {
     "name": "stdout",
     "output_type": "stream",
     "text": [
      "Step: 83744/950000 Episode 252: Total reward: 615.0 Explore P: 0.9246304\n"
     ]
    },
    {
     "name": "stderr",
     "output_type": "stream",
     "text": [
      " 13%|█▎        | 134322/1050000 [06:25<51:03, 298.95it/s]"
     ]
    },
    {
     "name": "stdout",
     "output_type": "stream",
     "text": [
      "Step: 84282/950000 Episode 253: Total reward: 50.0 Explore P: 0.9241462\n"
     ]
    },
    {
     "name": "stderr",
     "output_type": "stream",
     "text": [
      " 13%|█▎        | 134904/1050000 [06:27<1:01:08, 249.42it/s]"
     ]
    },
    {
     "name": "stdout",
     "output_type": "stream",
     "text": [
      "Step: 84880/950000 Episode 254: Total reward: 135.0 Explore P: 0.923608\n"
     ]
    },
    {
     "name": "stderr",
     "output_type": "stream",
     "text": [
      " 13%|█▎        | 135524/1050000 [06:29<52:00, 293.03it/s]  "
     ]
    },
    {
     "name": "stdout",
     "output_type": "stream",
     "text": [
      "Step: 85478/950000 Episode 255: Total reward: 210.0 Explore P: 0.9230698\n"
     ]
    },
    {
     "name": "stderr",
     "output_type": "stream",
     "text": [
      " 13%|█▎        | 135988/1050000 [06:31<51:13, 297.39it/s]"
     ]
    },
    {
     "name": "stdout",
     "output_type": "stream",
     "text": [
      "Step: 85938/950000 Episode 256: Total reward: 35.0 Explore P: 0.9226558\n"
     ]
    },
    {
     "name": "stderr",
     "output_type": "stream",
     "text": [
      " 13%|█▎        | 137120/1050000 [06:35<55:45, 272.90it/s]  "
     ]
    },
    {
     "name": "stdout",
     "output_type": "stream",
     "text": [
      "Step: 87082/950000 Episode 257: Total reward: 630.0 Explore P: 0.9216262\n"
     ]
    },
    {
     "name": "stderr",
     "output_type": "stream",
     "text": [
      " 13%|█▎        | 137512/1050000 [06:36<52:54, 287.40it/s]  "
     ]
    },
    {
     "name": "stdout",
     "output_type": "stream",
     "text": [
      "Step: 87462/950000 Episode 258: Total reward: 110.0 Explore P: 0.9212842\n"
     ]
    },
    {
     "name": "stderr",
     "output_type": "stream",
     "text": [
      " 13%|█▎        | 137795/1050000 [06:37<51:32, 294.94it/s]"
     ]
    },
    {
     "name": "stdout",
     "output_type": "stream",
     "text": [
      "Step: 87754/950000 Episode 259: Total reward: 45.0 Explore P: 0.9210214\n"
     ]
    },
    {
     "name": "stderr",
     "output_type": "stream",
     "text": [
      " 13%|█▎        | 138168/1050000 [06:38<56:03, 271.13it/s]"
     ]
    },
    {
     "name": "stdout",
     "output_type": "stream",
     "text": [
      "Step: 88134/950000 Episode 260: Total reward: 105.0 Explore P: 0.9206794\n"
     ]
    },
    {
     "name": "stderr",
     "output_type": "stream",
     "text": [
      " 13%|█▎        | 138695/1050000 [06:40<52:07, 291.43it/s]  "
     ]
    },
    {
     "name": "stdout",
     "output_type": "stream",
     "text": [
      "Step: 88665/950000 Episode 261: Total reward: 125.0 Explore P: 0.9202015\n"
     ]
    },
    {
     "name": "stderr",
     "output_type": "stream",
     "text": [
      " 13%|█▎        | 139300/1050000 [06:42<58:43, 258.50it/s]  "
     ]
    },
    {
     "name": "stdout",
     "output_type": "stream",
     "text": [
      "Step: 89266/950000 Episode 262: Total reward: 210.0 Explore P: 0.9196606\n"
     ]
    },
    {
     "name": "stderr",
     "output_type": "stream",
     "text": [
      " 13%|█▎        | 140480/1050000 [06:46<50:30, 300.17it/s]"
     ]
    },
    {
     "name": "stdout",
     "output_type": "stream",
     "text": [
      "Step: 90434/950000 Episode 263: Total reward: 300.0 Explore P: 0.9186094\n"
     ]
    },
    {
     "name": "stderr",
     "output_type": "stream",
     "text": [
      " 13%|█▎        | 141087/1050000 [06:48<55:34, 272.59it/s]"
     ]
    },
    {
     "name": "stdout",
     "output_type": "stream",
     "text": [
      "Step: 91048/950000 Episode 264: Total reward: 210.0 Explore P: 0.9180568\n"
     ]
    },
    {
     "name": "stderr",
     "output_type": "stream",
     "text": [
      " 14%|█▎        | 142104/1050000 [06:52<57:36, 262.70it/s]  "
     ]
    },
    {
     "name": "stdout",
     "output_type": "stream",
     "text": [
      "Step: 92078/950000 Episode 265: Total reward: 410.0 Explore P: 0.9171298\n"
     ]
    },
    {
     "name": "stderr",
     "output_type": "stream",
     "text": [
      " 14%|█▎        | 142516/1050000 [06:53<51:36, 293.05it/s]  "
     ]
    },
    {
     "name": "stdout",
     "output_type": "stream",
     "text": [
      "Step: 92471/950000 Episode 266: Total reward: 50.0 Explore P: 0.9167761\n"
     ]
    },
    {
     "name": "stderr",
     "output_type": "stream",
     "text": [
      " 14%|█▎        | 143114/1050000 [06:55<51:03, 296.00it/s]"
     ]
    },
    {
     "name": "stdout",
     "output_type": "stream",
     "text": [
      "Step: 93084/950000 Episode 267: Total reward: 210.0 Explore P: 0.9162243999999999\n"
     ]
    },
    {
     "name": "stderr",
     "output_type": "stream",
     "text": [
      " 14%|█▎        | 143726/1050000 [06:58<51:59, 290.56it/s]"
     ]
    },
    {
     "name": "stdout",
     "output_type": "stream",
     "text": [
      "Step: 93692/950000 Episode 268: Total reward: 210.0 Explore P: 0.9156772\n"
     ]
    },
    {
     "name": "stderr",
     "output_type": "stream",
     "text": [
      " 14%|█▎        | 144060/1050000 [06:59<52:28, 287.74it/s]"
     ]
    },
    {
     "name": "stdout",
     "output_type": "stream",
     "text": [
      "Step: 94017/950000 Episode 269: Total reward: 75.0 Explore P: 0.9153846999999999\n"
     ]
    },
    {
     "name": "stderr",
     "output_type": "stream",
     "text": [
      " 14%|█▍        | 144615/1050000 [07:01<52:56, 285.03it/s]  "
     ]
    },
    {
     "name": "stdout",
     "output_type": "stream",
     "text": [
      "Step: 94561/950000 Episode 270: Total reward: 110.0 Explore P: 0.9148951\n"
     ]
    },
    {
     "name": "stderr",
     "output_type": "stream",
     "text": [
      " 14%|█▍        | 145173/1050000 [07:03<51:16, 294.07it/s]"
     ]
    },
    {
     "name": "stdout",
     "output_type": "stream",
     "text": [
      "Step: 95123/950000 Episode 271: Total reward: 180.0 Explore P: 0.9143893\n"
     ]
    },
    {
     "name": "stderr",
     "output_type": "stream",
     "text": [
      " 14%|█▍        | 145648/1050000 [07:04<55:06, 273.52it/s]  "
     ]
    },
    {
     "name": "stdout",
     "output_type": "stream",
     "text": [
      "Step: 95596/950000 Episode 272: Total reward: 105.0 Explore P: 0.9139636\n"
     ]
    },
    {
     "name": "stderr",
     "output_type": "stream",
     "text": [
      " 14%|█▍        | 145959/1050000 [07:05<49:52, 302.07it/s]"
     ]
    },
    {
     "name": "stdout",
     "output_type": "stream",
     "text": [
      "Step: 95906/950000 Episode 273: Total reward: 60.0 Explore P: 0.9136846\n"
     ]
    },
    {
     "name": "stderr",
     "output_type": "stream",
     "text": [
      " 14%|█▍        | 146642/1050000 [07:08<53:34, 281.07it/s]"
     ]
    },
    {
     "name": "stdout",
     "output_type": "stream",
     "text": [
      "Step: 96613/950000 Episode 274: Total reward: 315.0 Explore P: 0.9130483\n"
     ]
    },
    {
     "name": "stderr",
     "output_type": "stream",
     "text": [
      " 14%|█▍        | 147273/1050000 [07:10<51:39, 291.22it/s]  "
     ]
    },
    {
     "name": "stdout",
     "output_type": "stream",
     "text": [
      "Step: 97225/950000 Episode 275: Total reward: 335.0 Explore P: 0.9124975\n"
     ]
    },
    {
     "name": "stderr",
     "output_type": "stream",
     "text": [
      " 14%|█▍        | 147584/1050000 [07:11<52:19, 287.42it/s]"
     ]
    },
    {
     "name": "stdout",
     "output_type": "stream",
     "text": [
      "Step: 97538/950000 Episode 276: Total reward: 50.0 Explore P: 0.9122158\n"
     ]
    },
    {
     "name": "stderr",
     "output_type": "stream",
     "text": [
      " 14%|█▍        | 148158/1050000 [07:13<51:43, 290.60it/s]"
     ]
    },
    {
     "name": "stdout",
     "output_type": "stream",
     "text": [
      "Step: 98124/950000 Episode 277: Total reward: 65.0 Explore P: 0.9116884\n"
     ]
    },
    {
     "name": "stderr",
     "output_type": "stream",
     "text": [
      " 14%|█▍        | 148744/1050000 [07:15<53:28, 280.90it/s]"
     ]
    },
    {
     "name": "stdout",
     "output_type": "stream",
     "text": [
      "Step: 98692/950000 Episode 278: Total reward: 330.0 Explore P: 0.9111772\n"
     ]
    },
    {
     "name": "stderr",
     "output_type": "stream",
     "text": [
      " 14%|█▍        | 149429/1050000 [07:17<50:47, 295.50it/s]"
     ]
    },
    {
     "name": "stdout",
     "output_type": "stream",
     "text": [
      "Step: 99389/950000 Episode 279: Total reward: 260.0 Explore P: 0.9105499\n"
     ]
    },
    {
     "name": "stderr",
     "output_type": "stream",
     "text": [
      " 14%|█▍        | 149920/1050000 [07:19<52:13, 287.26it/s]"
     ]
    },
    {
     "name": "stdout",
     "output_type": "stream",
     "text": [
      "Step: 99870/950000 Episode 280: Total reward: 140.0 Explore P: 0.910117\n"
     ]
    },
    {
     "name": "stderr",
     "output_type": "stream",
     "text": [
      " 14%|█▍        | 150533/1050000 [07:21<51:06, 293.28it/s]"
     ]
    },
    {
     "name": "stdout",
     "output_type": "stream",
     "text": [
      "Step: 100495/950000 Episode 281: Total reward: 380.0 Explore P: 0.9095545\n"
     ]
    },
    {
     "name": "stderr",
     "output_type": "stream",
     "text": [
      " 14%|█▍        | 151003/1050000 [07:23<50:34, 296.22it/s]"
     ]
    },
    {
     "name": "stdout",
     "output_type": "stream",
     "text": [
      "Step: 100967/950000 Episode 282: Total reward: 110.0 Explore P: 0.9091297\n"
     ]
    },
    {
     "name": "stderr",
     "output_type": "stream",
     "text": [
      " 14%|█▍        | 151628/1050000 [07:25<52:18, 286.27it/s]"
     ]
    },
    {
     "name": "stdout",
     "output_type": "stream",
     "text": [
      "Step: 101571/950000 Episode 283: Total reward: 175.0 Explore P: 0.9085861\n"
     ]
    },
    {
     "name": "stderr",
     "output_type": "stream",
     "text": [
      " 14%|█▍        | 152117/1050000 [07:27<50:41, 295.17it/s]"
     ]
    },
    {
     "name": "stdout",
     "output_type": "stream",
     "text": [
      "Step: 102072/950000 Episode 284: Total reward: 120.0 Explore P: 0.9081352\n"
     ]
    },
    {
     "name": "stderr",
     "output_type": "stream",
     "text": [
      " 15%|█▍        | 152687/1050000 [07:28<54:25, 274.81it/s]"
     ]
    },
    {
     "name": "stdout",
     "output_type": "stream",
     "text": [
      "Step: 102655/950000 Episode 285: Total reward: 120.0 Explore P: 0.9076105\n"
     ]
    },
    {
     "name": "stderr",
     "output_type": "stream",
     "text": [
      " 15%|█▍        | 153288/1050000 [07:30<50:33, 295.61it/s]"
     ]
    },
    {
     "name": "stdout",
     "output_type": "stream",
     "text": [
      "Step: 103231/950000 Episode 286: Total reward: 135.0 Explore P: 0.9070921\n"
     ]
    },
    {
     "name": "stderr",
     "output_type": "stream",
     "text": [
      " 15%|█▍        | 153576/1050000 [07:31<47:30, 314.52it/s]"
     ]
    },
    {
     "name": "stdout",
     "output_type": "stream",
     "text": [
      "Step: 103533/950000 Episode 287: Total reward: 30.0 Explore P: 0.9068203\n"
     ]
    },
    {
     "name": "stderr",
     "output_type": "stream",
     "text": [
      " 15%|█▍        | 154107/1050000 [07:33<52:43, 283.17it/s]"
     ]
    },
    {
     "name": "stdout",
     "output_type": "stream",
     "text": [
      "Step: 104053/950000 Episode 288: Total reward: 110.0 Explore P: 0.9063523\n"
     ]
    },
    {
     "name": "stderr",
     "output_type": "stream",
     "text": [
      " 15%|█▍        | 154391/1050000 [07:34<54:30, 273.82it/s]"
     ]
    },
    {
     "name": "stdout",
     "output_type": "stream",
     "text": [
      "Step: 104338/950000 Episode 289: Total reward: 30.0 Explore P: 0.9060958\n"
     ]
    },
    {
     "name": "stderr",
     "output_type": "stream",
     "text": [
      " 15%|█▍        | 154918/1050000 [07:36<49:17, 302.66it/s]"
     ]
    },
    {
     "name": "stdout",
     "output_type": "stream",
     "text": [
      "Step: 104863/950000 Episode 290: Total reward: 80.0 Explore P: 0.9056233\n"
     ]
    },
    {
     "name": "stderr",
     "output_type": "stream",
     "text": [
      " 15%|█▍        | 155722/1050000 [07:39<51:42, 288.29it/s]  "
     ]
    },
    {
     "name": "stdout",
     "output_type": "stream",
     "text": [
      "Step: 105664/950000 Episode 291: Total reward: 255.0 Explore P: 0.9049024\n"
     ]
    },
    {
     "name": "stderr",
     "output_type": "stream",
     "text": [
      " 15%|█▍        | 156698/1050000 [07:42<48:29, 307.04it/s]"
     ]
    },
    {
     "name": "stdout",
     "output_type": "stream",
     "text": [
      "Step: 106638/950000 Episode 292: Total reward: 415.0 Explore P: 0.9040258\n"
     ]
    },
    {
     "name": "stderr",
     "output_type": "stream",
     "text": [
      " 15%|█▍        | 156977/1050000 [07:43<50:51, 292.69it/s]"
     ]
    },
    {
     "name": "stdout",
     "output_type": "stream",
     "text": [
      "Step: 106922/950000 Episode 293: Total reward: 80.0 Explore P: 0.9037702\n"
     ]
    },
    {
     "name": "stderr",
     "output_type": "stream",
     "text": [
      " 15%|█▌        | 157584/1050000 [07:45<51:59, 286.08it/s]"
     ]
    },
    {
     "name": "stdout",
     "output_type": "stream",
     "text": [
      "Step: 107528/950000 Episode 294: Total reward: 210.0 Explore P: 0.9032248\n"
     ]
    },
    {
     "name": "stderr",
     "output_type": "stream",
     "text": [
      " 15%|█▌        | 158190/1050000 [07:47<52:32, 282.90it/s]"
     ]
    },
    {
     "name": "stdout",
     "output_type": "stream",
     "text": [
      "Step: 108142/950000 Episode 295: Total reward: 210.0 Explore P: 0.9026722\n"
     ]
    },
    {
     "name": "stderr",
     "output_type": "stream",
     "text": [
      " 15%|█▌        | 158660/1050000 [07:49<53:39, 276.85it/s]  "
     ]
    },
    {
     "name": "stdout",
     "output_type": "stream",
     "text": [
      "Step: 108616/950000 Episode 296: Total reward: 80.0 Explore P: 0.9022456\n"
     ]
    },
    {
     "name": "stderr",
     "output_type": "stream",
     "text": [
      " 15%|█▌        | 159026/1050000 [07:50<51:02, 290.91it/s]"
     ]
    },
    {
     "name": "stdout",
     "output_type": "stream",
     "text": [
      "Step: 108996/950000 Episode 297: Total reward: 60.0 Explore P: 0.9019036\n"
     ]
    },
    {
     "name": "stderr",
     "output_type": "stream",
     "text": [
      " 15%|█▌        | 159556/1050000 [07:52<50:32, 293.60it/s]"
     ]
    },
    {
     "name": "stdout",
     "output_type": "stream",
     "text": [
      "Step: 109524/950000 Episode 298: Total reward: 105.0 Explore P: 0.9014284\n"
     ]
    },
    {
     "name": "stderr",
     "output_type": "stream",
     "text": [
      " 15%|█▌        | 160085/1050000 [07:54<49:59, 296.70it/s]"
     ]
    },
    {
     "name": "stdout",
     "output_type": "stream",
     "text": [
      "Step: 110049/950000 Episode 299: Total reward: 165.0 Explore P: 0.9009559\n"
     ]
    },
    {
     "name": "stderr",
     "output_type": "stream",
     "text": [
      " 15%|█▌        | 160701/1050000 [07:56<50:49, 291.64it/s]"
     ]
    },
    {
     "name": "stdout",
     "output_type": "stream",
     "text": [
      "Step: 110658/950000 Episode 300: Total reward: 180.0 Explore P: 0.9004078\n"
     ]
    },
    {
     "name": "stderr",
     "output_type": "stream",
     "text": [
      " 15%|█▌        | 161296/1050000 [07:58<51:10, 289.45it/s]"
     ]
    },
    {
     "name": "stdout",
     "output_type": "stream",
     "text": [
      "Step: 111244/950000 Episode 301: Total reward: 155.0 Explore P: 0.8998804\n"
     ]
    },
    {
     "name": "stderr",
     "output_type": "stream",
     "text": [
      " 15%|█▌        | 161784/1050000 [08:00<51:41, 286.40it/s]"
     ]
    },
    {
     "name": "stdout",
     "output_type": "stream",
     "text": [
      "Step: 111736/950000 Episode 302: Total reward: 90.0 Explore P: 0.8994376\n"
     ]
    },
    {
     "name": "stderr",
     "output_type": "stream",
     "text": [
      " 15%|█▌        | 162381/1050000 [08:02<50:57, 290.32it/s]  "
     ]
    },
    {
     "name": "stdout",
     "output_type": "stream",
     "text": [
      "Step: 112331/950000 Episode 303: Total reward: 155.0 Explore P: 0.8989021\n"
     ]
    },
    {
     "name": "stderr",
     "output_type": "stream",
     "text": [
      " 16%|█▌        | 162817/1050000 [08:03<49:34, 298.30it/s]"
     ]
    },
    {
     "name": "stdout",
     "output_type": "stream",
     "text": [
      "Step: 112782/950000 Episode 304: Total reward: 60.0 Explore P: 0.8984962\n"
     ]
    },
    {
     "name": "stderr",
     "output_type": "stream",
     "text": [
      " 16%|█▌        | 163340/1050000 [08:05<51:53, 284.75it/s]"
     ]
    },
    {
     "name": "stdout",
     "output_type": "stream",
     "text": [
      "Step: 113313/950000 Episode 305: Total reward: 110.0 Explore P: 0.8980183\n"
     ]
    },
    {
     "name": "stderr",
     "output_type": "stream",
     "text": [
      " 16%|█▌        | 163957/1050000 [08:07<50:13, 294.04it/s]"
     ]
    },
    {
     "name": "stdout",
     "output_type": "stream",
     "text": [
      "Step: 113903/950000 Episode 306: Total reward: 145.0 Explore P: 0.8974873\n"
     ]
    },
    {
     "name": "stderr",
     "output_type": "stream",
     "text": [
      " 16%|█▌        | 164448/1050000 [08:09<52:49, 279.43it/s]"
     ]
    },
    {
     "name": "stdout",
     "output_type": "stream",
     "text": [
      "Step: 114412/950000 Episode 307: Total reward: 120.0 Explore P: 0.8970292\n"
     ]
    },
    {
     "name": "stderr",
     "output_type": "stream",
     "text": [
      " 16%|█▌        | 165220/1050000 [08:11<50:05, 294.34it/s]  "
     ]
    },
    {
     "name": "stdout",
     "output_type": "stream",
     "text": [
      "Step: 115177/950000 Episode 308: Total reward: 195.0 Explore P: 0.8963407\n"
     ]
    },
    {
     "name": "stderr",
     "output_type": "stream",
     "text": [
      " 16%|█▌        | 165774/1050000 [08:13<52:50, 278.92it/s]"
     ]
    },
    {
     "name": "stdout",
     "output_type": "stream",
     "text": [
      "Step: 115731/950000 Episode 309: Total reward: 120.0 Explore P: 0.8958421\n"
     ]
    },
    {
     "name": "stderr",
     "output_type": "stream",
     "text": [
      " 16%|█▌        | 166353/1050000 [08:15<51:12, 287.60it/s]"
     ]
    },
    {
     "name": "stdout",
     "output_type": "stream",
     "text": [
      "Step: 116322/950000 Episode 310: Total reward: 125.0 Explore P: 0.8953102\n"
     ]
    },
    {
     "name": "stderr",
     "output_type": "stream",
     "text": [
      " 16%|█▌        | 166972/1050000 [08:17<49:43, 295.99it/s]"
     ]
    },
    {
     "name": "stdout",
     "output_type": "stream",
     "text": [
      "Step: 116938/950000 Episode 311: Total reward: 180.0 Explore P: 0.8947558\n"
     ]
    },
    {
     "name": "stderr",
     "output_type": "stream",
     "text": [
      " 16%|█▌        | 167640/1050000 [08:20<51:28, 285.73it/s]"
     ]
    },
    {
     "name": "stdout",
     "output_type": "stream",
     "text": [
      "Step: 117606/950000 Episode 312: Total reward: 225.0 Explore P: 0.8941546\n"
     ]
    },
    {
     "name": "stderr",
     "output_type": "stream",
     "text": [
      " 16%|█▌        | 168116/1050000 [08:21<49:23, 297.61it/s]"
     ]
    },
    {
     "name": "stdout",
     "output_type": "stream",
     "text": [
      "Step: 118068/950000 Episode 313: Total reward: 80.0 Explore P: 0.8937387999999999\n"
     ]
    },
    {
     "name": "stderr",
     "output_type": "stream",
     "text": [
      " 16%|█▌        | 168740/1050000 [08:23<50:08, 292.93it/s]"
     ]
    },
    {
     "name": "stdout",
     "output_type": "stream",
     "text": [
      "Step: 118694/950000 Episode 314: Total reward: 210.0 Explore P: 0.8931754\n"
     ]
    },
    {
     "name": "stderr",
     "output_type": "stream",
     "text": [
      " 16%|█▌        | 169324/1050000 [08:25<53:10, 276.01it/s]"
     ]
    },
    {
     "name": "stdout",
     "output_type": "stream",
     "text": [
      "Step: 119283/950000 Episode 315: Total reward: 155.0 Explore P: 0.8926453\n"
     ]
    },
    {
     "name": "stderr",
     "output_type": "stream",
     "text": [
      " 16%|█▌        | 169911/1050000 [08:27<47:32, 308.56it/s]"
     ]
    },
    {
     "name": "stdout",
     "output_type": "stream",
     "text": [
      "Step: 119878/950000 Episode 316: Total reward: 135.0 Explore P: 0.8921098000000001\n"
     ]
    },
    {
     "name": "stderr",
     "output_type": "stream",
     "text": [
      " 16%|█▋        | 170819/1050000 [08:30<47:38, 307.52it/s]"
     ]
    },
    {
     "name": "stdout",
     "output_type": "stream",
     "text": [
      "Step: 120764/950000 Episode 317: Total reward: 260.0 Explore P: 0.8913124\n"
     ]
    },
    {
     "name": "stderr",
     "output_type": "stream",
     "text": [
      " 16%|█▋        | 171384/1050000 [08:32<48:16, 303.35it/s]"
     ]
    },
    {
     "name": "stdout",
     "output_type": "stream",
     "text": [
      "Step: 121329/950000 Episode 318: Total reward: 180.0 Explore P: 0.8908039\n"
     ]
    },
    {
     "name": "stderr",
     "output_type": "stream",
     "text": [
      " 16%|█▋        | 171894/1050000 [08:34<48:35, 301.20it/s]"
     ]
    },
    {
     "name": "stdout",
     "output_type": "stream",
     "text": [
      "Step: 121848/950000 Episode 319: Total reward: 110.0 Explore P: 0.8903368\n"
     ]
    },
    {
     "name": "stderr",
     "output_type": "stream",
     "text": [
      " 16%|█▋        | 172496/1050000 [08:36<48:19, 302.61it/s]"
     ]
    },
    {
     "name": "stdout",
     "output_type": "stream",
     "text": [
      "Step: 122464/950000 Episode 320: Total reward: 210.0 Explore P: 0.8897824\n"
     ]
    },
    {
     "name": "stderr",
     "output_type": "stream",
     "text": [
      " 16%|█▋        | 173088/1050000 [08:38<52:49, 276.69it/s]"
     ]
    },
    {
     "name": "stdout",
     "output_type": "stream",
     "text": [
      "Step: 123059/950000 Episode 321: Total reward: 180.0 Explore P: 0.8892469\n"
     ]
    },
    {
     "name": "stderr",
     "output_type": "stream",
     "text": [
      " 17%|█▋        | 173496/1050000 [08:39<54:06, 269.96it/s]  "
     ]
    },
    {
     "name": "stdout",
     "output_type": "stream",
     "text": [
      "Step: 123439/950000 Episode 322: Total reward: 55.0 Explore P: 0.8889049\n"
     ]
    },
    {
     "name": "stderr",
     "output_type": "stream",
     "text": [
      " 17%|█▋        | 173984/1050000 [08:41<49:07, 297.23it/s]"
     ]
    },
    {
     "name": "stdout",
     "output_type": "stream",
     "text": [
      "Step: 123957/950000 Episode 323: Total reward: 135.0 Explore P: 0.8884387\n"
     ]
    },
    {
     "name": "stderr",
     "output_type": "stream",
     "text": [
      " 17%|█▋        | 174596/1050000 [08:43<50:15, 290.28it/s]"
     ]
    },
    {
     "name": "stdout",
     "output_type": "stream",
     "text": [
      "Step: 124563/950000 Episode 324: Total reward: 210.0 Explore P: 0.8878933\n"
     ]
    },
    {
     "name": "stderr",
     "output_type": "stream",
     "text": [
      " 17%|█▋        | 175092/1050000 [08:45<50:59, 286.01it/s]"
     ]
    },
    {
     "name": "stdout",
     "output_type": "stream",
     "text": [
      "Step: 125058/950000 Episode 325: Total reward: 110.0 Explore P: 0.8874478\n"
     ]
    },
    {
     "name": "stderr",
     "output_type": "stream",
     "text": [
      " 17%|█▋        | 175484/1050000 [08:46<51:03, 285.47it/s]"
     ]
    },
    {
     "name": "stdout",
     "output_type": "stream",
     "text": [
      "Step: 125447/950000 Episode 326: Total reward: 80.0 Explore P: 0.8870977\n"
     ]
    },
    {
     "name": "stderr",
     "output_type": "stream",
     "text": [
      " 17%|█▋        | 175599/1050000 [08:47<43:44, 333.20it/s]\n"
     ]
    },
    {
     "ename": "KeyboardInterrupt",
     "evalue": "",
     "output_type": "error",
     "traceback": [
      "\u001b[0;31m---------------------------------------------------------------------------\u001b[0m",
      "\u001b[0;31mKeyboardInterrupt\u001b[0m                         Traceback (most recent call last)",
      "File \u001b[0;32m~/codes/AI_projects/deeprl_hw2_src/dqn_atari.py:173\u001b[0m\n\u001b[1;32m    169\u001b[0m     agent\u001b[38;5;241m.\u001b[39mevaluate(env, num_episodes\u001b[38;5;241m=\u001b[39m\u001b[38;5;241m5\u001b[39m, policy\u001b[38;5;241m=\u001b[39mtfrl\u001b[38;5;241m.\u001b[39mpolicy\u001b[38;5;241m.\u001b[39mGreedyPolicy())\n\u001b[1;32m    172\u001b[0m \u001b[38;5;28;01mif\u001b[39;00m \u001b[38;5;18m__name__\u001b[39m \u001b[38;5;241m==\u001b[39m \u001b[38;5;124m\"\u001b[39m\u001b[38;5;124m__main__\u001b[39m\u001b[38;5;124m\"\u001b[39m:\n\u001b[0;32m--> 173\u001b[0m     \u001b[43mmain\u001b[49m\u001b[43m(\u001b[49m\u001b[43m)\u001b[49m\n",
      "File \u001b[0;32m~/codes/AI_projects/deeprl_hw2_src/dqn_atari.py:162\u001b[0m, in \u001b[0;36mmain\u001b[0;34m()\u001b[0m\n\u001b[1;32m    150\u001b[0m agent \u001b[38;5;241m=\u001b[39m DQNAgent(\n\u001b[1;32m    151\u001b[0m     q_network\u001b[38;5;241m=\u001b[39mcreate_model(window, input_shape, env\u001b[38;5;241m.\u001b[39maction_space\u001b[38;5;241m.\u001b[39mn),\n\u001b[1;32m    152\u001b[0m     preprocessor\u001b[38;5;241m=\u001b[39mPreprocessorSequence(input_shape, window),\n\u001b[0;32m   (...)\u001b[0m\n\u001b[1;32m    158\u001b[0m     batch_size\u001b[38;5;241m=\u001b[39mbatchsize,\n\u001b[1;32m    159\u001b[0m )\n\u001b[1;32m    161\u001b[0m agent\u001b[38;5;241m.\u001b[39mcompile(optimizer\u001b[38;5;241m=\u001b[39mtorch\u001b[38;5;241m.\u001b[39moptim\u001b[38;5;241m.\u001b[39mAdam, loss_func\u001b[38;5;241m=\u001b[39mmean_huber_loss)\n\u001b[0;32m--> 162\u001b[0m \u001b[43magent\u001b[49m\u001b[38;5;241;43m.\u001b[39;49m\u001b[43mfit\u001b[49m\u001b[43m(\u001b[49m\n\u001b[1;32m    163\u001b[0m \u001b[43m    \u001b[49m\u001b[43menv\u001b[49m\u001b[43m,\u001b[49m\n\u001b[1;32m    164\u001b[0m \u001b[43m    \u001b[49m\u001b[43mnum_iterations\u001b[49m\u001b[38;5;241;43m=\u001b[39;49m\u001b[43mmax_size\u001b[49m\u001b[43m,\u001b[49m\n\u001b[1;32m    165\u001b[0m \u001b[43m    \u001b[49m\u001b[43mpolicy\u001b[49m\u001b[38;5;241;43m=\u001b[39;49m\u001b[43mtfrl\u001b[49m\u001b[38;5;241;43m.\u001b[39;49m\u001b[43mpolicy\u001b[49m\u001b[38;5;241;43m.\u001b[39;49m\u001b[43mLinearDecayGreedyEpsilonPolicy\u001b[49m\u001b[43m(\u001b[49m\n\u001b[1;32m    166\u001b[0m \u001b[43m        \u001b[49m\u001b[43mtfrl\u001b[49m\u001b[38;5;241;43m.\u001b[39;49m\u001b[43mpolicy\u001b[49m\u001b[38;5;241;43m.\u001b[39;49m\u001b[43mGreedyEpsilonPolicy\u001b[49m\u001b[43m,\u001b[49m\u001b[43m \u001b[49m\u001b[38;5;124;43m\"\u001b[39;49m\u001b[38;5;124;43mepsilon\u001b[39;49m\u001b[38;5;124;43m\"\u001b[39;49m\u001b[43m,\u001b[49m\u001b[43m \u001b[49m\u001b[38;5;241;43m1.0\u001b[39;49m\u001b[43m,\u001b[49m\u001b[43m \u001b[49m\u001b[38;5;241;43m0.1\u001b[39;49m\u001b[43m,\u001b[49m\u001b[43m \u001b[49m\u001b[43mmax_size\u001b[49m\n\u001b[1;32m    167\u001b[0m \u001b[43m    \u001b[49m\u001b[43m)\u001b[49m\u001b[43m,\u001b[49m\n\u001b[1;32m    168\u001b[0m \u001b[43m\u001b[49m\u001b[43m)\u001b[49m\n\u001b[1;32m    169\u001b[0m agent\u001b[38;5;241m.\u001b[39mevaluate(env, num_episodes\u001b[38;5;241m=\u001b[39m\u001b[38;5;241m5\u001b[39m, policy\u001b[38;5;241m=\u001b[39mtfrl\u001b[38;5;241m.\u001b[39mpolicy\u001b[38;5;241m.\u001b[39mGreedyPolicy())\n",
      "File \u001b[0;32m~/codes/AI_projects/deeprl_hw2_src/deeprl_hw2/dqn.py:256\u001b[0m, in \u001b[0;36mDQNAgent.fit\u001b[0;34m(self, env, num_iterations, max_episode_length, policy)\u001b[0m\n\u001b[1;32m    253\u001b[0m total_rewards \u001b[38;5;241m+\u001b[39m\u001b[38;5;241m=\u001b[39m reward\n\u001b[1;32m    255\u001b[0m \u001b[38;5;66;03m# Do not add s' to the history yet\u001b[39;00m\n\u001b[0;32m--> 256\u001b[0m processed_next_state \u001b[38;5;241m=\u001b[39m \u001b[38;5;28;43mself\u001b[39;49m\u001b[38;5;241;43m.\u001b[39;49m\u001b[43mpreprocessor\u001b[49m\u001b[38;5;241;43m.\u001b[39;49m\u001b[43mprocess_state_for_memory\u001b[49m\u001b[43m(\u001b[49m\n\u001b[1;32m    257\u001b[0m \u001b[43m    \u001b[49m\u001b[43mnext_state\u001b[49m\u001b[43m,\u001b[49m\n\u001b[1;32m    258\u001b[0m \u001b[43m\u001b[49m\u001b[43m)\u001b[49m\n\u001b[1;32m    259\u001b[0m \u001b[38;5;28mself\u001b[39m\u001b[38;5;241m.\u001b[39mmemory\u001b[38;5;241m.\u001b[39mappend(\n\u001b[1;32m    260\u001b[0m     processed_state, action, reward, processed_next_state, done\n\u001b[1;32m    261\u001b[0m )\n\u001b[1;32m    263\u001b[0m state \u001b[38;5;241m=\u001b[39m next_state\n",
      "File \u001b[0;32m~/codes/AI_projects/deeprl_hw2_src/deeprl_hw2/preprocessors.py:207\u001b[0m, in \u001b[0;36mPreprocessorSequence.process_state_for_memory\u001b[0;34m(self, state, update_history)\u001b[0m\n\u001b[1;32m    205\u001b[0m \u001b[38;5;250m\u001b[39m\u001b[38;5;124;03m\"\"\"Process the state for the memory.\"\"\"\u001b[39;00m\n\u001b[1;32m    206\u001b[0m state \u001b[38;5;241m=\u001b[39m \u001b[38;5;28mself\u001b[39m\u001b[38;5;241m.\u001b[39matari\u001b[38;5;241m.\u001b[39mprocess_state_for_memory(state)\n\u001b[0;32m--> 207\u001b[0m state \u001b[38;5;241m=\u001b[39m \u001b[38;5;28;43mself\u001b[39;49m\u001b[38;5;241;43m.\u001b[39;49m\u001b[43mhistory\u001b[49m\u001b[38;5;241;43m.\u001b[39;49m\u001b[43mprocess_state_for_memory\u001b[49m\u001b[43m(\u001b[49m\n\u001b[1;32m    208\u001b[0m \u001b[43m    \u001b[49m\u001b[43mstate\u001b[49m\u001b[43m,\u001b[49m\u001b[43m \u001b[49m\u001b[43mupdate_history\u001b[49m\u001b[38;5;241;43m=\u001b[39;49m\u001b[43mupdate_history\u001b[49m\n\u001b[1;32m    209\u001b[0m \u001b[43m\u001b[49m\u001b[43m)\u001b[49m\n\u001b[1;32m    210\u001b[0m \u001b[38;5;28;01mreturn\u001b[39;00m state\n",
      "File \u001b[0;32m~/codes/AI_projects/deeprl_hw2_src/deeprl_hw2/preprocessors.py:58\u001b[0m, in \u001b[0;36mHistoryPreprocessor.process_state_for_memory\u001b[0;34m(self, state, update_history)\u001b[0m\n\u001b[1;32m     57\u001b[0m \u001b[38;5;28;01mdef\u001b[39;00m \u001b[38;5;21mprocess_state_for_memory\u001b[39m(\u001b[38;5;28mself\u001b[39m, state, update_history\u001b[38;5;241m=\u001b[39m\u001b[38;5;28;01mTrue\u001b[39;00m):\n\u001b[0;32m---> 58\u001b[0m     state \u001b[38;5;241m=\u001b[39m \u001b[38;5;28;43mself\u001b[39;49m\u001b[38;5;241;43m.\u001b[39;49m\u001b[43mprocess_state_for_network\u001b[49m\u001b[43m(\u001b[49m\u001b[43mstate\u001b[49m\u001b[43m,\u001b[49m\u001b[43m \u001b[49m\u001b[43mupdate_history\u001b[49m\u001b[38;5;241;43m=\u001b[39;49m\u001b[43mupdate_history\u001b[49m\u001b[43m)\u001b[49m\n\u001b[1;32m     59\u001b[0m     \u001b[38;5;28;01mreturn\u001b[39;00m state\u001b[38;5;241m.\u001b[39mastype(np\u001b[38;5;241m.\u001b[39muint8)\n",
      "File \u001b[0;32m~/codes/AI_projects/deeprl_hw2_src/deeprl_hw2/preprocessors.py:40\u001b[0m, in \u001b[0;36mHistoryPreprocessor.process_state_for_network\u001b[0;34m(self, state, update_history)\u001b[0m\n\u001b[1;32m     37\u001b[0m \u001b[38;5;250m\u001b[39m\u001b[38;5;124;03m\"\"\"You only want history when you're deciding the current action to take.\"\"\"\u001b[39;00m\n\u001b[1;32m     39\u001b[0m \u001b[38;5;66;03m# Take maximum of the last 2 frames\u001b[39;00m\n\u001b[0;32m---> 40\u001b[0m state \u001b[38;5;241m=\u001b[39m \u001b[43mnp\u001b[49m\u001b[38;5;241;43m.\u001b[39;49m\u001b[43mmaximum\u001b[49m\u001b[38;5;241;43m.\u001b[39;49m\u001b[43mreduce\u001b[49m\u001b[43m(\u001b[49m\u001b[43m[\u001b[49m\u001b[43mstate\u001b[49m\u001b[43m,\u001b[49m\u001b[43m \u001b[49m\u001b[38;5;28;43mself\u001b[39;49m\u001b[38;5;241;43m.\u001b[39;49m\u001b[43mhistory\u001b[49m\u001b[43m[\u001b[49m\u001b[38;5;241;43m-\u001b[39;49m\u001b[38;5;241;43m1\u001b[39;49m\u001b[43m]\u001b[49m\u001b[43m]\u001b[49m\u001b[43m)\u001b[49m\n\u001b[1;32m     42\u001b[0m \u001b[38;5;66;03m# Add to history\u001b[39;00m\n\u001b[1;32m     43\u001b[0m \u001b[38;5;28mself\u001b[39m\u001b[38;5;241m.\u001b[39mhistory\u001b[38;5;241m.\u001b[39mappend(state)\n",
      "\u001b[0;31mKeyboardInterrupt\u001b[0m: "
     ]
    }
   ],
   "source": [
    "%run dqn_atari.py --env \"ALE/SpaceInvaders-v5\" -o ./runs --seed 42"
   ]
  },
  {
   "cell_type": "code",
   "execution_count": null,
   "metadata": {},
   "outputs": [],
   "source": []
  }
 ],
 "metadata": {
  "kernelspec": {
   "display_name": "drl",
   "language": "python",
   "name": "python3"
  },
  "language_info": {
   "codemirror_mode": {
    "name": "ipython",
    "version": 3
   },
   "file_extension": ".py",
   "mimetype": "text/x-python",
   "name": "python",
   "nbconvert_exporter": "python",
   "pygments_lexer": "ipython3",
   "version": "3.10.15"
  }
 },
 "nbformat": 4,
 "nbformat_minor": 2
}
