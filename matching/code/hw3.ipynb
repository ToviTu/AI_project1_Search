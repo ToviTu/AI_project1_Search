{
 "cells": [
  {
   "cell_type": "markdown",
   "id": "7f06a021",
   "metadata": {},
   "source": [
    "# Homework 3: Matching Markets"
   ]
  },
  {
   "cell_type": "code",
   "execution_count": 1,
   "id": "52e5445f",
   "metadata": {},
   "outputs": [],
   "source": [
    "import argparse\n",
    "import enum\n",
    "import pickle\n",
    "import sys\n",
    "import os\n",
    "import numpy as np"
   ]
  },
  {
   "cell_type": "markdown",
   "id": "90a40a10",
   "metadata": {},
   "source": [
    "## Problem 1: Stable Matching [40 points]"
   ]
  },
  {
   "cell_type": "code",
   "execution_count": 2,
   "id": "005d2459",
   "metadata": {},
   "outputs": [],
   "source": [
    "from stable_matching import stableMatching"
   ]
  },
  {
   "cell_type": "code",
   "execution_count": 3,
   "id": "a2c9fa4b",
   "metadata": {},
   "outputs": [],
   "source": [
    "advisorPrefs = pickle.load(open(\"../data/data_p1/advisor_test.pickle\",'rb'))\n",
    "studentPrefs = pickle.load(open(\"../data/data_p1/student_test.pickle\",'rb'))"
   ]
  },
  {
   "cell_type": "code",
   "execution_count": 4,
   "id": "f22fd582",
   "metadata": {},
   "outputs": [],
   "source": [
    "# advisorPrefs = {\n",
    "#     \"Jane\": [1, 2, 3],\n",
    "#     \"Alice\": [4, 1, 5],\n",
    "#     \"Steve\": [1, 3, 4],\n",
    "#     \"Bob\": [1, 5, 4],\n",
    "#     \"Ann\": [4, 3, 2]\n",
    "# }\n",
    "\n",
    "# studentPrefs = {\n",
    "#     1: [\"Bob\", \"Steve\", \"Jane\"],\n",
    "#     2: [\"Jane\", \"Ann\", \"Steve\"],\n",
    "#     3: [\"Jane\", \"Steve\", \"Ann\"],\n",
    "#     4: [\"Jane\", \"Alice\", \"Ann\"],\n",
    "#     5: [\"Bob\", \"Steve\", \"Jane\"]\n",
    "# }"
   ]
  },
  {
   "cell_type": "code",
   "execution_count": 5,
   "id": "67218f30",
   "metadata": {
    "scrolled": true
   },
   "outputs": [],
   "source": [
    "advisorAssignment, studentAssignment = stableMatching(advisorPrefs, studentPrefs)"
   ]
  },
  {
   "cell_type": "code",
   "execution_count": 6,
   "id": "e8b802a1",
   "metadata": {},
   "outputs": [
    {
     "data": {
      "text/plain": [
       "({'Bob': 1, 'Alice': 4, 'Jane': 2, 'Steve': 3},\n",
       " {1: 'Bob', 4: 'Alice', 2: 'Jane', 3: 'Steve'})"
      ]
     },
     "execution_count": 6,
     "metadata": {},
     "output_type": "execute_result"
    }
   ],
   "source": [
    "advisorAssignment, studentAssignment"
   ]
  },
  {
   "cell_type": "markdown",
   "id": "5fad0196",
   "metadata": {},
   "source": [
    "## Problem 2: Matching Residents to Hospitals [20 points]"
   ]
  },
  {
   "cell_type": "code",
   "execution_count": 7,
   "id": "f5533c07",
   "metadata": {},
   "outputs": [],
   "source": [
    "from student_matching import studentMatching"
   ]
  },
  {
   "cell_type": "code",
   "execution_count": null,
   "id": "d11767fc",
   "metadata": {
    "scrolled": true
   },
   "outputs": [],
   "source": [
    "studentPrefs = pickle.load(open(\"../data/data_p2/students_.pickle\",'rb'))\n",
    "advisorPrefs = pickle.load(open(\"../data/data_p2/advisors.pickle\",'rb'))\n",
    "quota = pickle.load(open(\"../data/data_p2/quota.pickle\",'rb'))"
   ]
  },
  {
   "cell_type": "code",
   "execution_count": 9,
   "id": "33fb2362",
   "metadata": {},
   "outputs": [],
   "source": [
    "# studentPrefs = {\n",
    "#     \"Jane\": [1, 2, 3],\n",
    "#     \"Alice\": [4, 1, 5],\n",
    "#     \"Steve\": [1, 3, 4],\n",
    "#     \"Bob\": [1, 5, 4],\n",
    "#     \"Ann\": [4, 3, 2]\n",
    "# }\n",
    "\n",
    "# advisorPrefs = {\n",
    "#     1: [\"Bob\", \"Steve\", \"Jane\"],\n",
    "#     2: [\"Jane\", \"Ann\", \"Steve\"],\n",
    "#     3: [\"Jane\", \"Steve\", \"Ann\"],\n",
    "#     4: [\"Jane\", \"Alice\", \"Ann\"],\n",
    "#     5: [\"Bob\", \"Steve\", \"Jane\"]\n",
    "# }\n",
    "\n",
    "# quota = {\n",
    "#     1: 2,\n",
    "#     2: 1,\n",
    "#     3: 1,\n",
    "#     4: 1,\n",
    "#     5: 1\n",
    "# }"
   ]
  },
  {
   "cell_type": "code",
   "execution_count": 10,
   "id": "66f89a27",
   "metadata": {},
   "outputs": [],
   "source": [
    "studentAssignment, advisorAssignment = studentMatching(studentPrefs,advisorPrefs,quota)"
   ]
  },
  {
   "cell_type": "code",
   "execution_count": 11,
   "id": "da2bad42",
   "metadata": {},
   "outputs": [
    {
     "data": {
      "text/plain": [
       "({1: 2, 5: 1, 2: 1, 3: 3}, {2: [1], 3: [3], 1: [5, 2]})"
      ]
     },
     "execution_count": 11,
     "metadata": {},
     "output_type": "execute_result"
    }
   ],
   "source": [
    "studentAssignment, advisorAssignment"
   ]
  },
  {
   "cell_type": "markdown",
   "id": "62e8d6da",
   "metadata": {},
   "source": [
    "## Problem 3: Kidney Exchange [40 points]"
   ]
  },
  {
   "cell_type": "code",
   "execution_count": 7,
   "id": "7459151f",
   "metadata": {},
   "outputs": [],
   "source": [
    "from ttc import ttc"
   ]
  },
  {
   "cell_type": "code",
   "execution_count": 8,
   "id": "1a598e31",
   "metadata": {},
   "outputs": [],
   "source": [
    "patientPrefs = pickle.load(open(\"../data/data_p3/patient_test.pickle\",'rb'))\n",
    "kidneyPatientPairs = pickle.load(open(\"../data/data_p3/kidney_test.pickle\",'rb'))"
   ]
  },
  {
   "cell_type": "code",
   "execution_count": 14,
   "id": "05b68f4f",
   "metadata": {},
   "outputs": [],
   "source": [
    "# patientPrefs = {\n",
    "#     1: [5, 6],\n",
    "#     2: [1, 3, 4],\n",
    "#     3: [2, 4, 6, 1],\n",
    "#     4: [5],\n",
    "#     5: [1, 2],\n",
    "#     6: [3, 2, 1]\n",
    "# }\n",
    "\n",
    "# # kidneyPatientPairs = {k: k for k, v in patientPrefs.items()}"
   ]
  },
  {
   "cell_type": "code",
   "execution_count": 15,
   "id": "1b84c486",
   "metadata": {},
   "outputs": [],
   "source": [
    "# patientPrefs = {\n",
    "#     1: [3, 2, 4, 1],\n",
    "#     2: [3, 5, 6],\n",
    "#     3: [3, 1],\n",
    "#     4: [2, 5, 6, 4],\n",
    "#     5: [1, 3, 2],\n",
    "#     6: [2, 4, 5, 6]\n",
    "# }\n",
    "# kidneyPatientPairs = {k: k for k, v in patientPrefs.items()}"
   ]
  },
  {
   "cell_type": "code",
   "execution_count": 16,
   "id": "0d4e1844",
   "metadata": {},
   "outputs": [],
   "source": [
    "# patientPrefs = {\n",
    "#     1: [1, 3, 4, 6, 5, 2, 7],\n",
    "#     2: [3, 5, 6, 2, 1, 7, 4],\n",
    "#     3: [4, 5, 3, 1, 2],\n",
    "#     4: [5, 1, 3, 4, 2],\n",
    "#     5: [3, 7, 1, 5, 6],\n",
    "#     6: [1, 7, 3, 4, 2],\n",
    "#     7: [2, 6, 3, 1, 5]\n",
    "# }\n",
    "# kidneyPatientPairs = {k: k for k, v in patientPrefs.items()}"
   ]
  },
  {
   "cell_type": "code",
   "execution_count": 17,
   "id": "c7356454",
   "metadata": {},
   "outputs": [],
   "source": [
    "# patientPrefs = {\n",
    "#     1: [3, 2, 4, 1],\n",
    "#     2: [4, 1, 2, 3],\n",
    "#     3: [1, 4, 3, 2],\n",
    "#     4: [3, 2, 1, 4],\n",
    "# }\n",
    "# kidneyPatientPairs = {k: k for k, v in patientPrefs.items()}"
   ]
  },
  {
   "cell_type": "code",
   "execution_count": 9,
   "id": "d690ca35",
   "metadata": {},
   "outputs": [
    {
     "name": "stdout",
     "output_type": "stream",
     "text": [
      "solution:\n",
      "{1: 5, 5: 1, 2: 3, 3: 2}\n"
     ]
    }
   ],
   "source": [
    "solution = ttc(patientPrefs,kidneyPatientPairs)\n",
    "print(\"solution:\")\n",
    "print(solution)"
   ]
  },
  {
   "cell_type": "code",
   "execution_count": null,
   "id": "bd93ea65",
   "metadata": {},
   "outputs": [],
   "source": []
  }
 ],
 "metadata": {
  "kernelspec": {
   "display_name": "ml",
   "language": "python",
   "name": "python3"
  },
  "language_info": {
   "codemirror_mode": {
    "name": "ipython",
    "version": 3
   },
   "file_extension": ".py",
   "mimetype": "text/x-python",
   "name": "python",
   "nbconvert_exporter": "python",
   "pygments_lexer": "ipython3",
   "version": "3.10.13"
  }
 },
 "nbformat": 4,
 "nbformat_minor": 5
}
