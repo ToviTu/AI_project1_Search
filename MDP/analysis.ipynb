{
 "cells": [
  {
   "cell_type": "code",
   "execution_count": 1,
   "metadata": {},
   "outputs": [],
   "source": [
    "from vi_and_pi import *\n",
    "from vi_and_pi import value_iteration as value_iteration_test\n",
    "from vi_and_pi import policy_iteration as policy_iteration_test\n",
    "from lake_envs import *\n",
    "import gym"
   ]
  },
  {
   "cell_type": "markdown",
   "metadata": {},
   "source": [
    "# Value Iteration"
   ]
  },
  {
   "cell_type": "code",
   "execution_count": 2,
   "metadata": {},
   "outputs": [
    {
     "name": "stderr",
     "output_type": "stream",
     "text": [
      "/home/tovitu/miniconda3/envs/ml/lib/python3.10/site-packages/gym/envs/registration.py:14: PkgResourcesDeprecationWarning: Parameters to load are deprecated.  Call .resolve and .require separately.\n",
      "  result = entry_point.load(False)\n"
     ]
    }
   ],
   "source": [
    "env_d = gym.make(\"Deterministic-4x4-FrozenLake-v0\")\n",
    "env_s = gym.make(\"Stochastic-4x4-FrozenLake-v0\")"
   ]
  },
  {
   "cell_type": "markdown",
   "metadata": {},
   "source": [
    "## Deterministic Case"
   ]
  },
  {
   "cell_type": "code",
   "execution_count": 3,
   "metadata": {},
   "outputs": [
    {
     "name": "stdout",
     "output_type": "stream",
     "text": [
      "Value iteration converged in 7 iterations\n"
     ]
    }
   ],
   "source": [
    "V_pi, p_pi = value_iteration(env_d.P, env_d.nS, env_d.nA, gamma=0.9, tol=1e-3)"
   ]
  },
  {
   "cell_type": "code",
   "execution_count": 4,
   "metadata": {},
   "outputs": [
    {
     "data": {
      "text/plain": [
       "array([1, 2, 1, 0, 1, 0, 1, 0, 2, 1, 1, 0, 0, 2, 2, 0])"
      ]
     },
     "execution_count": 4,
     "metadata": {},
     "output_type": "execute_result"
    }
   ],
   "source": [
    "p_pi"
   ]
  },
  {
   "cell_type": "markdown",
   "metadata": {},
   "source": [
    "## Stochastic Case"
   ]
  },
  {
   "cell_type": "code",
   "execution_count": 5,
   "metadata": {},
   "outputs": [
    {
     "name": "stdout",
     "output_type": "stream",
     "text": [
      "Value iteration converged in 27 iterations\n"
     ]
    }
   ],
   "source": [
    "V_pi, p_pi = value_iteration(env_s.P, env_s.nS, env_s.nA, gamma=0.9, tol=1e-3)"
   ]
  },
  {
   "cell_type": "code",
   "execution_count": 6,
   "metadata": {},
   "outputs": [
    {
     "data": {
      "text/plain": [
       "array([0, 3, 0, 3, 0, 0, 0, 0, 3, 1, 0, 0, 0, 2, 1, 0])"
      ]
     },
     "execution_count": 6,
     "metadata": {},
     "output_type": "execute_result"
    }
   ],
   "source": [
    "p_pi"
   ]
  },
  {
   "cell_type": "markdown",
   "metadata": {},
   "source": [
    "# Policy Iteration"
   ]
  },
  {
   "cell_type": "markdown",
   "metadata": {},
   "source": [
    "## Deterministic Case"
   ]
  },
  {
   "cell_type": "code",
   "execution_count": 7,
   "metadata": {},
   "outputs": [
    {
     "name": "stdout",
     "output_type": "stream",
     "text": [
      "Policy evaluation converged in 1 iterations\n",
      "Policy evaluation converged in 2 iterations\n",
      "Policy evaluation converged in 3 iterations\n",
      "Policy evaluation converged in 4 iterations\n",
      "Policy evaluation converged in 6 iterations\n",
      "Policy evaluation converged in 6 iterations\n",
      "Policy evaluation converged in 7 iterations\n"
     ]
    }
   ],
   "source": [
    "V_pi, p_pi = policy_iteration(env_d.P, env_d.nS, env_d.nA, gamma=0.9, tol=1e-3)"
   ]
  },
  {
   "cell_type": "code",
   "execution_count": 8,
   "metadata": {},
   "outputs": [
    {
     "data": {
      "text/plain": [
       "array([1, 2, 1, 0, 1, 0, 1, 0, 2, 1, 1, 0, 0, 2, 2, 0])"
      ]
     },
     "execution_count": 8,
     "metadata": {},
     "output_type": "execute_result"
    }
   ],
   "source": [
    "p_pi"
   ]
  },
  {
   "cell_type": "markdown",
   "metadata": {},
   "source": [
    "## Stochastic Case"
   ]
  },
  {
   "cell_type": "code",
   "execution_count": 9,
   "metadata": {},
   "outputs": [
    {
     "name": "stdout",
     "output_type": "stream",
     "text": [
      "Policy evaluation converged in 1 iterations\n",
      "Policy evaluation converged in 9 iterations\n",
      "Policy evaluation converged in 19 iterations\n",
      "Policy evaluation converged in 21 iterations\n",
      "Policy evaluation converged in 27 iterations\n",
      "Policy evaluation converged in 27 iterations\n"
     ]
    }
   ],
   "source": [
    "V_pi, p_pi = policy_iteration(env_s.P, env_s.nS, env_s.nA, gamma=0.9, tol=1e-3)"
   ]
  },
  {
   "cell_type": "code",
   "execution_count": 10,
   "metadata": {},
   "outputs": [
    {
     "data": {
      "text/plain": [
       "array([0, 3, 0, 3, 0, 0, 0, 0, 3, 1, 0, 0, 0, 2, 1, 0])"
      ]
     },
     "execution_count": 10,
     "metadata": {},
     "output_type": "execute_result"
    }
   ],
   "source": [
    "p_pi"
   ]
  },
  {
   "cell_type": "code",
   "execution_count": 11,
   "metadata": {},
   "outputs": [],
   "source": [
    "#END"
   ]
  },
  {
   "cell_type": "markdown",
   "metadata": {},
   "source": [
    "# Test Section"
   ]
  },
  {
   "cell_type": "code",
   "execution_count": 16,
   "metadata": {},
   "outputs": [
    {
     "name": "stdout",
     "output_type": "stream",
     "text": [
      "Value iteration converged in 7 iterations\n",
      "Value iteration converged in 7 iterations\n"
     ]
    }
   ],
   "source": [
    "V_pi, p_pi = value_iteration(env_d.P, env_d.nS, env_d.nA, gamma=0.9, tol=1e-3)\n",
    "V_pi_test, p_pi_test = value_iteration_test(env_d.P, env_d.nS, env_d.nA, gamma=0.9, tol=1e-3)\n",
    "assert np.allclose(V_pi, V_pi_test) and np.all(p_pi == p_pi_test)"
   ]
  },
  {
   "cell_type": "code",
   "execution_count": 18,
   "metadata": {},
   "outputs": [
    {
     "name": "stdout",
     "output_type": "stream",
     "text": [
      "Value iteration converged in 27 iterations\n",
      "Value iteration converged in 27 iterations\n"
     ]
    }
   ],
   "source": [
    "V_pi, p_pi = value_iteration(env_s.P, env_s.nS, env_s.nA, gamma=0.9, tol=1e-3)\n",
    "V_pi_test, p_pi_test = value_iteration_test(env_s.P, env_s.nS, env_s.nA, gamma=0.9, tol=1e-3)\n",
    "assert np.allclose(V_pi, V_pi_test) and np.all(p_pi == p_pi_test)"
   ]
  },
  {
   "cell_type": "code",
   "execution_count": 19,
   "metadata": {},
   "outputs": [
    {
     "name": "stdout",
     "output_type": "stream",
     "text": [
      "Policy evaluation converged in 1 iterations\n",
      "Policy evaluation converged in 2 iterations\n",
      "Policy evaluation converged in 3 iterations\n",
      "Policy evaluation converged in 4 iterations\n",
      "Policy evaluation converged in 6 iterations\n",
      "Policy evaluation converged in 6 iterations\n",
      "Policy evaluation converged in 7 iterations\n",
      "Policy evaluation converged in 1 iterations\n",
      "Policy evaluation converged in 2 iterations\n",
      "Policy evaluation converged in 3 iterations\n",
      "Policy evaluation converged in 4 iterations\n",
      "Policy evaluation converged in 6 iterations\n",
      "Policy evaluation converged in 6 iterations\n",
      "Policy evaluation converged in 7 iterations\n"
     ]
    }
   ],
   "source": [
    "V_pi, p_pi = policy_iteration(env_d.P, env_d.nS, env_d.nA, gamma=0.9, tol=1e-3)\n",
    "V_pi_test, p_pi_test = policy_iteration_test(env_d.P, env_d.nS, env_d.nA, gamma=0.9, tol=1e-3)\n",
    "assert np.allclose(V_pi, V_pi_test) and np.all(p_pi == p_pi_test)"
   ]
  },
  {
   "cell_type": "code",
   "execution_count": 20,
   "metadata": {},
   "outputs": [
    {
     "name": "stdout",
     "output_type": "stream",
     "text": [
      "Policy evaluation converged in 1 iterations\n",
      "Policy evaluation converged in 9 iterations\n",
      "Policy evaluation converged in 19 iterations\n",
      "Policy evaluation converged in 21 iterations\n",
      "Policy evaluation converged in 27 iterations\n",
      "Policy evaluation converged in 27 iterations\n",
      "Policy evaluation converged in 1 iterations\n",
      "Policy evaluation converged in 9 iterations\n",
      "Policy evaluation converged in 19 iterations\n",
      "Policy evaluation converged in 21 iterations\n",
      "Policy evaluation converged in 27 iterations\n",
      "Policy evaluation converged in 27 iterations\n"
     ]
    }
   ],
   "source": [
    "V_pi, p_pi = policy_iteration(env_s.P, env_s.nS, env_s.nA, gamma=0.9, tol=1e-3)\n",
    "V_pi_test, p_pi_test = policy_iteration_test(env_s.P, env_s.nS, env_s.nA, gamma=0.9, tol=1e-3)\n",
    "assert np.allclose(V_pi, V_pi_test) and np.all(p_pi == p_pi_test)"
   ]
  },
  {
   "cell_type": "code",
   "execution_count": null,
   "metadata": {},
   "outputs": [],
   "source": []
  }
 ],
 "metadata": {
  "kernelspec": {
   "display_name": "ml",
   "language": "python",
   "name": "python3"
  },
  "language_info": {
   "codemirror_mode": {
    "name": "ipython",
    "version": 3
   },
   "file_extension": ".py",
   "mimetype": "text/x-python",
   "name": "python",
   "nbconvert_exporter": "python",
   "pygments_lexer": "ipython3",
   "version": "3.10.13"
  }
 },
 "nbformat": 4,
 "nbformat_minor": 2
}
